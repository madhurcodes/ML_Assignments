{
 "cells": [
  {
   "cell_type": "code",
   "execution_count": 163,
   "metadata": {},
   "outputs": [],
   "source": [
    "import numpy as np\n",
    "import matplotlib.pyplot as plt\n",
    "%matplotlib inline\n",
    "import random\n",
    "import pandas as pd"
   ]
  },
  {
   "cell_type": "code",
   "execution_count": 164,
   "metadata": {},
   "outputs": [],
   "source": [
    "train  = np.genfromtxt(\"train.csv\",delimiter=\",\")"
   ]
  },
  {
   "cell_type": "code",
   "execution_count": 165,
   "metadata": {},
   "outputs": [],
   "source": [
    "test = np.genfromtxt(\"test.csv\",delimiter=\",\")"
   ]
  },
  {
   "cell_type": "code",
   "execution_count": 166,
   "metadata": {},
   "outputs": [],
   "source": [
    "X_train = train[:,0:784]/255\n",
    "Y_train = train[:,784].astype(int)\n",
    "X_test = test[:,0:784]/255\n",
    "Y_test = test[:,784].astype(int)"
   ]
  },
  {
   "cell_type": "code",
   "execution_count": 167,
   "metadata": {},
   "outputs": [
    {
     "data": {
      "text/plain": [
       "(20000, 784)"
      ]
     },
     "execution_count": 167,
     "metadata": {},
     "output_type": "execute_result"
    }
   ],
   "source": [
    "X_train.shape"
   ]
  },
  {
   "cell_type": "code",
   "execution_count": 168,
   "metadata": {},
   "outputs": [
    {
     "data": {
      "text/plain": [
       "(10000, 784)"
      ]
     },
     "execution_count": 168,
     "metadata": {},
     "output_type": "execute_result"
    }
   ],
   "source": [
    "X_test.shape"
   ]
  },
  {
   "cell_type": "code",
   "execution_count": 169,
   "metadata": {},
   "outputs": [
    {
     "data": {
      "text/plain": [
       "20000"
      ]
     },
     "execution_count": 169,
     "metadata": {},
     "output_type": "execute_result"
    }
   ],
   "source": [
    "len(X_train)"
   ]
  },
  {
   "cell_type": "code",
   "execution_count": 223,
   "metadata": {
    "code_folding": []
   },
   "outputs": [],
   "source": [
    "class SVM_classifier:\n",
    "    def __init__(self,class_indices = (0,2),C=1, nf=784, bs=100, lamb=1, iters=500):\n",
    "        self.weights = np.zeros(nf)\n",
    "        self.C = C\n",
    "        self.bias = 0\n",
    "        self.bs = bs\n",
    "        self.lamb = lamb\n",
    "        self.iters = iters\n",
    "        self.class_indices = class_indices\n",
    "\n",
    "    def fit(self, X_train, Y_train):\n",
    "        for i in range(1, self.iters + 1):\n",
    "            eta = 1 / (self.lamb * i)\n",
    "            idx = np.random.choice(\n",
    "                np.arange(len(X_train)), self.bs, replace=False)\n",
    "            X_sample = X_train[idx]\n",
    "            Y_sample = Y_train[idx]\n",
    "            T = Y_sample * (np.matmul(X_sample, self.weights) + self.bias)\n",
    "            is_bad = np.greater_equal(1, T)\n",
    "            self.bias = self.bias - eta * (np.dot(is_bad, -Y_sample))\n",
    "            \n",
    "            self.weights = self.weights - eta * (\n",
    "                self.lamb * self.weights -\n",
    "                (np.dot(is_bad, X_sample * Y_sample[:, None])*self.C)\n",
    "            )\n",
    "\n",
    "    def predict(self, X):\n",
    "        p = np.matmul(X, self.weights) + self.bias\n",
    "        p[p < 0] = -1\n",
    "        p[p >= 0] = 1\n",
    "        return p.astype(int)"
   ]
  },
  {
   "cell_type": "code",
   "execution_count": 228,
   "metadata": {},
   "outputs": [],
   "source": [
    "class Multi_svm:\n",
    "    def __init__(self,classes = range(0,10)):\n",
    "        # conv classif(a,b) exists if a<b ; out 1 if a and -1 if b\n",
    "        self.classifiers = []\n",
    "        self.classes = classes\n",
    "        self.class_indices = range(len(self.classes))\n",
    "        for cls1 in self.class_indices:\n",
    "            for cls2 in self.class_indices:\n",
    "                if cls1 < cls2:\n",
    "                    new_clf = SVM_classifier(class_indices=(cls1,cls2))\n",
    "                    self.classifiers.append(new_clf)\n",
    "    def fit(self,X_train,Y_train):\n",
    "        for cur_clf in self.classifiers:\n",
    "            cls1,cls2 = cur_clf.class_indices\n",
    "            X_sub = X_train[(Y_train==self.classes[cls1]  )| (Y_train==self.classes[cls2]) ] \n",
    "            Y_sub = np.copy(Y_train[(Y_train==self.classes[cls1]  )| (Y_train==self.classes[cls2]) ] )\n",
    "            Y_sub[Y_sub==self.classes[cls1]] = 1\n",
    "            Y_sub[Y_sub==self.classes[cls2]] = -1\n",
    "            cur_clf.fit(X_sub,Y_sub)\n",
    "    def predict(self,X):\n",
    "        num_samples = X.shape[0]\n",
    "        pred_matrix = np.zeros(shape=(num_samples,len(self.classes)),dtype=int)\n",
    "        for cur_clf in self.classifiers:\n",
    "            pr = cur_clf.predict(X)\n",
    "            pr[pr==1] = cur_clf.class_indices[0]\n",
    "            pr[pr==-1] = cur_clf.class_indices[1] #order of these two matters xD\n",
    "            pred_matrix[np.arange(0,num_samples),pr] += 1\n",
    "        maxy = np.argmax(pred_matrix,axis=1)\n",
    "        indice_to_name = [self.classes[i] for i in maxy]\n",
    "        return np.asarray(maxy)\n",
    "    "
   ]
  },
  {
   "cell_type": "code",
   "execution_count": 229,
   "metadata": {},
   "outputs": [],
   "source": [
    "mm = Multi_svm()"
   ]
  },
  {
   "cell_type": "code",
   "execution_count": 230,
   "metadata": {},
   "outputs": [],
   "source": [
    "mm.fit(X_train,Y_train)"
   ]
  },
  {
   "cell_type": "code",
   "execution_count": 231,
   "metadata": {},
   "outputs": [],
   "source": [
    "import sklearn\n",
    "\n",
    "pred = mm.predict(X_test)"
   ]
  },
  {
   "cell_type": "code",
   "execution_count": 232,
   "metadata": {},
   "outputs": [
    {
     "name": "stdout",
     "output_type": "stream",
     "text": [
      "0.8943\n"
     ]
    }
   ],
   "source": [
    "print(sklearn.metrics.accuracy_score(Y_test,pred))"
   ]
  },
  {
   "cell_type": "code",
   "execution_count": 233,
   "metadata": {},
   "outputs": [
    {
     "name": "stdout",
     "output_type": "stream",
     "text": [
      "             precision    recall  f1-score   support\n",
      "\n",
      "          0       0.95      0.96      0.95       980\n",
      "          1       0.90      0.98      0.94      1135\n",
      "          2       0.93      0.84      0.88      1032\n",
      "          3       0.89      0.88      0.88      1010\n",
      "          4       0.89      0.90      0.89       982\n",
      "          5       0.81      0.88      0.84       892\n",
      "          6       0.92      0.93      0.92       958\n",
      "          7       0.93      0.88      0.90      1028\n",
      "          8       0.88      0.82      0.85       974\n",
      "          9       0.85      0.88      0.87      1009\n",
      "\n",
      "avg / total       0.90      0.89      0.89     10000\n",
      "\n"
     ]
    }
   ],
   "source": [
    "print(sklearn.metrics.classification_report(Y_test,pred))"
   ]
  },
  {
   "cell_type": "code",
   "execution_count": null,
   "metadata": {},
   "outputs": [],
   "source": []
  },
  {
   "cell_type": "code",
   "execution_count": null,
   "metadata": {},
   "outputs": [],
   "source": []
  },
  {
   "cell_type": "code",
   "execution_count": null,
   "metadata": {},
   "outputs": [],
   "source": [
    "\n"
   ]
  }
 ],
 "metadata": {
  "kernelspec": {
   "display_name": "Python 3",
   "language": "python",
   "name": "python3"
  },
  "language_info": {
   "codemirror_mode": {
    "name": "ipython",
    "version": 3
   },
   "file_extension": ".py",
   "mimetype": "text/x-python",
   "name": "python",
   "nbconvert_exporter": "python",
   "pygments_lexer": "ipython3",
   "version": "3.6.3"
  },
  "varInspector": {
   "cols": {
    "lenName": 16,
    "lenType": 16,
    "lenVar": 40
   },
   "kernels_config": {
    "python": {
     "delete_cmd_postfix": "",
     "delete_cmd_prefix": "del ",
     "library": "var_list.py",
     "varRefreshCmd": "print(var_dic_list())"
    },
    "r": {
     "delete_cmd_postfix": ") ",
     "delete_cmd_prefix": "rm(",
     "library": "var_list.r",
     "varRefreshCmd": "cat(var_dic_list()) "
    }
   },
   "types_to_exclude": [
    "module",
    "function",
    "builtin_function_or_method",
    "instance",
    "_Feature"
   ],
   "window_display": false
  }
 },
 "nbformat": 4,
 "nbformat_minor": 2
}
