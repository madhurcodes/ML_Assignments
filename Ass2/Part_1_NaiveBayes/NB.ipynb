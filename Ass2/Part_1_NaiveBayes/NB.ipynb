{
 "cells": [
  {
   "cell_type": "code",
   "execution_count": 18,
   "metadata": {},
   "outputs": [],
   "source": [
    "import numpy as np\n",
    "import matplotlib.pyplot as plt\n",
    "import re\n",
    "%matplotlib inline\n",
    "import random\n",
    "import math\n",
    "import pandas as pd"
   ]
  },
  {
   "cell_type": "code",
   "execution_count": 118,
   "metadata": {},
   "outputs": [],
   "source": [
    "train_list = []\n",
    "with open(\"imdb_train_text.txt\",\"r\") as text, open(\"imdb_train_labels.txt\",\"r\") as labels:\n",
    "    for line in text:\n",
    "        s = labels.readline()\n",
    "        line = line.replace(\"<br /><br />\", \" \")\n",
    "        line =  \"\".join([ c.lower() if c.isalnum() else \" \" for c in line ])\n",
    "        train_list.append((line,int(s)))\n",
    "# random.shuffle(train_list)"
   ]
  },
  {
   "cell_type": "code",
   "execution_count": 113,
   "metadata": {},
   "outputs": [],
   "source": [
    "test_list = []\n",
    "with open(\"imdb_test_text.txt\",\"r\") as text, open(\"imdb_test_labels.txt\",\"r\") as labels:\n",
    "    for line in text:\n",
    "        s = labels.readline()\n",
    "        line = line.replace(\"<br /><br />\", \" \")\n",
    "        line =  \"\".join([ c.lower() if c.isalnum() else \" \" for c in line ])\n",
    "        test_list.append((line,int(s)))\n",
    "# random.shuffle(test_list)"
   ]
  },
  {
   "cell_type": "code",
   "execution_count": 119,
   "metadata": {},
   "outputs": [],
   "source": [
    "try_dic = {}\n",
    "for el in train_list:\n",
    "    try:\n",
    "        try_dic[el[1]] +=1\n",
    "    except:\n",
    "        try_dic[el[1]] = 1"
   ]
  },
  {
   "cell_type": "code",
   "execution_count": 120,
   "metadata": {},
   "outputs": [
    {
     "data": {
      "text/plain": [
       "{1: 5100, 2: 2284, 3: 2420, 4: 2696, 7: 2496, 8: 3009, 9: 2263, 10: 4732}"
      ]
     },
     "execution_count": 120,
     "metadata": {},
     "output_type": "execute_result"
    }
   ],
   "source": [
    "try_dic"
   ]
  },
  {
   "cell_type": "code",
   "execution_count": 23,
   "metadata": {},
   "outputs": [],
   "source": [
    "vocab = {}\n",
    "word_given_class = {}\n",
    "for clas in try_dic.keys():\n",
    "    word_given_class[clas] = {}\n",
    "for (text,rating) in train_list:\n",
    "    text_list = text.split()\n",
    "    for word in text_list:\n",
    "        if word in vocab.keys():\n",
    "            vocab[word] += 1\n",
    "        else:\n",
    "            vocab[word] = 1\n",
    "        if word in word_given_class[rating].keys():\n",
    "            word_given_class[rating][word] +=1\n",
    "        else:\n",
    "            word_given_class[rating][word] = 1 "
   ]
  },
  {
   "cell_type": "code",
   "execution_count": 24,
   "metadata": {},
   "outputs": [],
   "source": [
    "def size_d(dic):\n",
    "    i = 0\n",
    "    for el in dic.keys():\n",
    "        i += dic[el]\n",
    "    return i"
   ]
  },
  {
   "cell_type": "code",
   "execution_count": 25,
   "metadata": {},
   "outputs": [],
   "source": [
    "size_of_class = {}\n",
    "for clas in try_dic.keys():\n",
    "    size_of_class[clas] = size_d(word_given_class[clas])\n",
    "voc_size = size_d(vocab)"
   ]
  },
  {
   "cell_type": "code",
   "execution_count": 26,
   "metadata": {},
   "outputs": [],
   "source": [
    "def classify(line):\n",
    "#     line =  \"\".join([ c.lower() if c.isalnum() else \" \" for c in line ])\n",
    "#     line = re.sub(\"<br />\",\" \",line)\n",
    "    text_list = line.split()\n",
    "    res = {}\n",
    "    for clas in try_dic.keys():\n",
    "        res[clas] = 0\n",
    "        res[clas] += math.log(try_dic[clas])\n",
    "        for word in text_list:\n",
    "            if word in word_given_class[clas].keys():\n",
    "                res[clas] += math.log((word_given_class[clas][word]+1)/(size_of_class[clas]+len(vocab)))\n",
    "            else:\n",
    "                res[clas] += math.log((0+1)/(size_of_class[clas]+len(vocab)))\n",
    "    return (max(res,key=res.get),res)"
   ]
  },
  {
   "cell_type": "code",
   "execution_count": 27,
   "metadata": {},
   "outputs": [
    {
     "name": "stdout",
     "output_type": "stream",
     "text": [
      " Train accuracy is  0.6844\n"
     ]
    }
   ],
   "source": [
    "correct = 0\n",
    "wrong = 0\n",
    "for (text,rating) in train_list:\n",
    "    if(classify(text)[0] == rating):\n",
    "#     if(1 == rating):\n",
    "        correct += 1\n",
    "    else:\n",
    "        wrong += 1\n",
    "\n",
    "print( \" Train accuracy is \", correct/(correct+wrong))"
   ]
  },
  {
   "cell_type": "code",
   "execution_count": 28,
   "metadata": {},
   "outputs": [
    {
     "name": "stdout",
     "output_type": "stream",
     "text": [
      " Test accuracy is  0.38476\n"
     ]
    }
   ],
   "source": [
    "correct = 0\n",
    "wrong = 0\n",
    "for (text,rating) in test_list:\n",
    "    if(classify(text)[0] == rating):\n",
    "#     if(1 == rating):\n",
    "        correct += 1\n",
    "    else:\n",
    "        wrong += 1\n",
    "\n",
    "print( \" Test accuracy is \", correct/(correct+wrong))"
   ]
  },
  {
   "cell_type": "markdown",
   "metadata": {},
   "source": [
    "Random guessing"
   ]
  },
  {
   "cell_type": "code",
   "execution_count": 29,
   "metadata": {},
   "outputs": [
    {
     "name": "stdout",
     "output_type": "stream",
     "text": [
      " Random class accuracy is  0.12328\n"
     ]
    }
   ],
   "source": [
    "correct = 0\n",
    "wrong = 0\n",
    "for (text,rating) in test_list:\n",
    "    if(random.choice(list(try_dic.keys())) == rating):\n",
    "        correct += 1\n",
    "    else:\n",
    "        wrong += 1\n",
    "print( \" Random class accuracy is \", correct/(correct+wrong))"
   ]
  },
  {
   "cell_type": "markdown",
   "metadata": {},
   "source": [
    "Majority guess"
   ]
  },
  {
   "cell_type": "code",
   "execution_count": 30,
   "metadata": {},
   "outputs": [
    {
     "name": "stdout",
     "output_type": "stream",
     "text": [
      " Majority class accuracy is  0.20088\n"
     ]
    }
   ],
   "source": [
    "correct = 0\n",
    "wrong = 0\n",
    "for (text,rating) in test_list:\n",
    "    if(1 == rating):\n",
    "        correct += 1\n",
    "    else:\n",
    "        wrong += 1\n",
    "print( \" Majority class accuracy is \", correct/(correct+wrong))"
   ]
  },
  {
   "cell_type": "markdown",
   "metadata": {},
   "source": [
    "## Confusion Matrix"
   ]
  },
  {
   "cell_type": "code",
   "execution_count": 31,
   "metadata": {},
   "outputs": [],
   "source": [
    "act =[]\n",
    "pred =[]\n",
    "for (text,rating) in test_list:\n",
    "    pred.append(classify(text)[0])\n",
    "    act.append(rating)\n",
    "y_actu = pd.Series(act, name='Actual')\n",
    "y_pred = pd.Series(pred, name='Predicted')\n",
    "df_confusion = pd.crosstab(y_actu, y_pred, rownames=['Actual'], colnames=['Predicted'], margins=True)"
   ]
  },
  {
   "cell_type": "code",
   "execution_count": 32,
   "metadata": {},
   "outputs": [
    {
     "data": {
      "text/html": [
       "<div>\n",
       "<style scoped>\n",
       "    .dataframe tbody tr th:only-of-type {\n",
       "        vertical-align: middle;\n",
       "    }\n",
       "\n",
       "    .dataframe tbody tr th {\n",
       "        vertical-align: top;\n",
       "    }\n",
       "\n",
       "    .dataframe thead th {\n",
       "        text-align: right;\n",
       "    }\n",
       "</style>\n",
       "<table border=\"1\" class=\"dataframe\">\n",
       "  <thead>\n",
       "    <tr style=\"text-align: right;\">\n",
       "      <th>Predicted</th>\n",
       "      <th>1</th>\n",
       "      <th>2</th>\n",
       "      <th>3</th>\n",
       "      <th>4</th>\n",
       "      <th>7</th>\n",
       "      <th>8</th>\n",
       "      <th>9</th>\n",
       "      <th>10</th>\n",
       "      <th>All</th>\n",
       "    </tr>\n",
       "    <tr>\n",
       "      <th>Actual</th>\n",
       "      <th></th>\n",
       "      <th></th>\n",
       "      <th></th>\n",
       "      <th></th>\n",
       "      <th></th>\n",
       "      <th></th>\n",
       "      <th></th>\n",
       "      <th></th>\n",
       "      <th></th>\n",
       "    </tr>\n",
       "  </thead>\n",
       "  <tbody>\n",
       "    <tr>\n",
       "      <th>1</th>\n",
       "      <td>4272</td>\n",
       "      <td>87</td>\n",
       "      <td>155</td>\n",
       "      <td>258</td>\n",
       "      <td>36</td>\n",
       "      <td>61</td>\n",
       "      <td>20</td>\n",
       "      <td>133</td>\n",
       "      <td>5022</td>\n",
       "    </tr>\n",
       "    <tr>\n",
       "      <th>2</th>\n",
       "      <td>1587</td>\n",
       "      <td>50</td>\n",
       "      <td>184</td>\n",
       "      <td>273</td>\n",
       "      <td>55</td>\n",
       "      <td>54</td>\n",
       "      <td>6</td>\n",
       "      <td>93</td>\n",
       "      <td>2302</td>\n",
       "    </tr>\n",
       "    <tr>\n",
       "      <th>3</th>\n",
       "      <td>1362</td>\n",
       "      <td>56</td>\n",
       "      <td>230</td>\n",
       "      <td>491</td>\n",
       "      <td>127</td>\n",
       "      <td>120</td>\n",
       "      <td>13</td>\n",
       "      <td>142</td>\n",
       "      <td>2541</td>\n",
       "    </tr>\n",
       "    <tr>\n",
       "      <th>4</th>\n",
       "      <td>1036</td>\n",
       "      <td>46</td>\n",
       "      <td>210</td>\n",
       "      <td>673</td>\n",
       "      <td>225</td>\n",
       "      <td>229</td>\n",
       "      <td>28</td>\n",
       "      <td>188</td>\n",
       "      <td>2635</td>\n",
       "    </tr>\n",
       "    <tr>\n",
       "      <th>7</th>\n",
       "      <td>400</td>\n",
       "      <td>9</td>\n",
       "      <td>80</td>\n",
       "      <td>262</td>\n",
       "      <td>424</td>\n",
       "      <td>521</td>\n",
       "      <td>73</td>\n",
       "      <td>538</td>\n",
       "      <td>2307</td>\n",
       "    </tr>\n",
       "    <tr>\n",
       "      <th>8</th>\n",
       "      <td>423</td>\n",
       "      <td>13</td>\n",
       "      <td>64</td>\n",
       "      <td>167</td>\n",
       "      <td>311</td>\n",
       "      <td>720</td>\n",
       "      <td>131</td>\n",
       "      <td>1021</td>\n",
       "      <td>2850</td>\n",
       "    </tr>\n",
       "    <tr>\n",
       "      <th>9</th>\n",
       "      <td>332</td>\n",
       "      <td>6</td>\n",
       "      <td>23</td>\n",
       "      <td>95</td>\n",
       "      <td>153</td>\n",
       "      <td>470</td>\n",
       "      <td>123</td>\n",
       "      <td>1142</td>\n",
       "      <td>2344</td>\n",
       "    </tr>\n",
       "    <tr>\n",
       "      <th>10</th>\n",
       "      <td>797</td>\n",
       "      <td>11</td>\n",
       "      <td>43</td>\n",
       "      <td>103</td>\n",
       "      <td>181</td>\n",
       "      <td>559</td>\n",
       "      <td>178</td>\n",
       "      <td>3127</td>\n",
       "      <td>4999</td>\n",
       "    </tr>\n",
       "    <tr>\n",
       "      <th>All</th>\n",
       "      <td>10209</td>\n",
       "      <td>278</td>\n",
       "      <td>989</td>\n",
       "      <td>2322</td>\n",
       "      <td>1512</td>\n",
       "      <td>2734</td>\n",
       "      <td>572</td>\n",
       "      <td>6384</td>\n",
       "      <td>25000</td>\n",
       "    </tr>\n",
       "  </tbody>\n",
       "</table>\n",
       "</div>"
      ],
      "text/plain": [
       "Predicted      1    2    3     4     7     8    9    10    All\n",
       "Actual                                                        \n",
       "1           4272   87  155   258    36    61   20   133   5022\n",
       "2           1587   50  184   273    55    54    6    93   2302\n",
       "3           1362   56  230   491   127   120   13   142   2541\n",
       "4           1036   46  210   673   225   229   28   188   2635\n",
       "7            400    9   80   262   424   521   73   538   2307\n",
       "8            423   13   64   167   311   720  131  1021   2850\n",
       "9            332    6   23    95   153   470  123  1142   2344\n",
       "10           797   11   43   103   181   559  178  3127   4999\n",
       "All        10209  278  989  2322  1512  2734  572  6384  25000"
      ]
     },
     "execution_count": 32,
     "metadata": {},
     "output_type": "execute_result"
    }
   ],
   "source": [
    "df_confusion"
   ]
  },
  {
   "cell_type": "markdown",
   "metadata": {},
   "source": [
    "## Stemming and Stop Words"
   ]
  },
  {
   "cell_type": "code",
   "execution_count": 87,
   "metadata": {},
   "outputs": [],
   "source": [
    "train_list = []\n",
    "with open(\"stop_train_text.txt\",\"r\") as text, open(\"imdb_train_labels.txt\",\"r\") as labels:\n",
    "    for line in text:\n",
    "        s = labels.readline()\n",
    "        line = line.replace(\"<br /><br />\", \" \")\n",
    "        line =  \"\".join([ c.lower() if c.isalnum() else \" \" for c in line ])\n",
    "        train_list.append((line,int(s)))\n",
    "# random.shuffle(train_list)"
   ]
  },
  {
   "cell_type": "code",
   "execution_count": 88,
   "metadata": {},
   "outputs": [],
   "source": [
    "test_list = []\n",
    "with open(\"stop_test_text.txt\",\"r\") as text, open(\"imdb_test_labels.txt\",\"r\") as labels:\n",
    "    for line in text:\n",
    "        s = labels.readline()\n",
    "        line = line.replace(\"<br /><br />\", \" \")\n",
    "        line =  \"\".join([ c.lower() if c.isalnum() else \" \" for c in line ])\n",
    "        test_list.append((line,int(s)))\n",
    "# random.shuffle(test_list)"
   ]
  },
  {
   "cell_type": "code",
   "execution_count": 89,
   "metadata": {},
   "outputs": [],
   "source": [
    "try_dic = {}\n",
    "for el in train_list:\n",
    "    try:\n",
    "        try_dic[el[1]] +=1\n",
    "    except:\n",
    "        try_dic[el[1]] = 1"
   ]
  },
  {
   "cell_type": "code",
   "execution_count": 90,
   "metadata": {},
   "outputs": [
    {
     "data": {
      "text/plain": [
       "{1: 5100, 2: 2284, 3: 2420, 4: 2696, 7: 2496, 8: 3009, 9: 2263, 10: 4732}"
      ]
     },
     "execution_count": 90,
     "metadata": {},
     "output_type": "execute_result"
    }
   ],
   "source": [
    "try_dic"
   ]
  },
  {
   "cell_type": "code",
   "execution_count": 91,
   "metadata": {},
   "outputs": [],
   "source": [
    "vocab = {}\n",
    "word_given_class = {}\n",
    "for clas in try_dic.keys():\n",
    "    word_given_class[clas] = {}\n",
    "for (text,rating) in train_list:\n",
    "    text_list = text.split()\n",
    "    for word in text_list:\n",
    "        if word in vocab.keys():\n",
    "            vocab[word] += 1\n",
    "        else:\n",
    "            vocab[word] = 1\n",
    "        if word in word_given_class[rating].keys():\n",
    "            word_given_class[rating][word] +=1\n",
    "        else:\n",
    "            word_given_class[rating][word] = 1 "
   ]
  },
  {
   "cell_type": "code",
   "execution_count": 92,
   "metadata": {},
   "outputs": [],
   "source": [
    "def size_d(dic):\n",
    "    i = 0\n",
    "    for el in dic.keys():\n",
    "        i += dic[el]\n",
    "    return i"
   ]
  },
  {
   "cell_type": "code",
   "execution_count": 93,
   "metadata": {},
   "outputs": [],
   "source": [
    "size_of_class = {}\n",
    "for clas in try_dic.keys():\n",
    "    size_of_class[clas] = size_d(word_given_class[clas])\n",
    "voc_size = size_d(vocab)"
   ]
  },
  {
   "cell_type": "code",
   "execution_count": 94,
   "metadata": {},
   "outputs": [],
   "source": [
    "def classify(line):\n",
    "#     line =  \"\".join([ c.lower() if c.isalnum() else \" \" for c in line ])\n",
    "#     line = re.sub(\"<br />\",\" \",line)\n",
    "    text_list = line.split()\n",
    "    res = {}\n",
    "    for clas in try_dic.keys():\n",
    "        res[clas] = 0\n",
    "        res[clas] += math.log(try_dic[clas])\n",
    "        for word in text_list:\n",
    "            if word in word_given_class[clas].keys():\n",
    "                res[clas] += math.log((word_given_class[clas][word]+1)/(size_of_class[clas]+len(vocab)))\n",
    "            else:\n",
    "                res[clas] += math.log((0+1)/(size_of_class[clas]+len(vocab)))\n",
    "    return (max(res,key=res.get),res)"
   ]
  },
  {
   "cell_type": "code",
   "execution_count": 99,
   "metadata": {},
   "outputs": [
    {
     "name": "stdout",
     "output_type": "stream",
     "text": [
      " Test accuracy is  0.38452\n"
     ]
    },
    {
     "data": {
      "text/html": [
       "<div>\n",
       "<style scoped>\n",
       "    .dataframe tbody tr th:only-of-type {\n",
       "        vertical-align: middle;\n",
       "    }\n",
       "\n",
       "    .dataframe tbody tr th {\n",
       "        vertical-align: top;\n",
       "    }\n",
       "\n",
       "    .dataframe thead th {\n",
       "        text-align: right;\n",
       "    }\n",
       "</style>\n",
       "<table border=\"1\" class=\"dataframe\">\n",
       "  <thead>\n",
       "    <tr style=\"text-align: right;\">\n",
       "      <th>Actual</th>\n",
       "      <th>1</th>\n",
       "      <th>2</th>\n",
       "      <th>3</th>\n",
       "      <th>4</th>\n",
       "      <th>7</th>\n",
       "      <th>8</th>\n",
       "      <th>9</th>\n",
       "      <th>10</th>\n",
       "      <th>All</th>\n",
       "    </tr>\n",
       "    <tr>\n",
       "      <th>Predicted</th>\n",
       "      <th></th>\n",
       "      <th></th>\n",
       "      <th></th>\n",
       "      <th></th>\n",
       "      <th></th>\n",
       "      <th></th>\n",
       "      <th></th>\n",
       "      <th></th>\n",
       "      <th></th>\n",
       "    </tr>\n",
       "  </thead>\n",
       "  <tbody>\n",
       "    <tr>\n",
       "      <th>1</th>\n",
       "      <td>4155</td>\n",
       "      <td>1501</td>\n",
       "      <td>1266</td>\n",
       "      <td>925</td>\n",
       "      <td>340</td>\n",
       "      <td>356</td>\n",
       "      <td>281</td>\n",
       "      <td>595</td>\n",
       "      <td>9419</td>\n",
       "    </tr>\n",
       "    <tr>\n",
       "      <th>2</th>\n",
       "      <td>128</td>\n",
       "      <td>78</td>\n",
       "      <td>106</td>\n",
       "      <td>76</td>\n",
       "      <td>25</td>\n",
       "      <td>30</td>\n",
       "      <td>18</td>\n",
       "      <td>35</td>\n",
       "      <td>496</td>\n",
       "    </tr>\n",
       "    <tr>\n",
       "      <th>3</th>\n",
       "      <td>193</td>\n",
       "      <td>204</td>\n",
       "      <td>276</td>\n",
       "      <td>294</td>\n",
       "      <td>111</td>\n",
       "      <td>93</td>\n",
       "      <td>48</td>\n",
       "      <td>70</td>\n",
       "      <td>1289</td>\n",
       "    </tr>\n",
       "    <tr>\n",
       "      <th>4</th>\n",
       "      <td>249</td>\n",
       "      <td>284</td>\n",
       "      <td>501</td>\n",
       "      <td>666</td>\n",
       "      <td>288</td>\n",
       "      <td>208</td>\n",
       "      <td>116</td>\n",
       "      <td>138</td>\n",
       "      <td>2450</td>\n",
       "    </tr>\n",
       "    <tr>\n",
       "      <th>7</th>\n",
       "      <td>43</td>\n",
       "      <td>64</td>\n",
       "      <td>115</td>\n",
       "      <td>215</td>\n",
       "      <td>407</td>\n",
       "      <td>322</td>\n",
       "      <td>163</td>\n",
       "      <td>207</td>\n",
       "      <td>1536</td>\n",
       "    </tr>\n",
       "    <tr>\n",
       "      <th>8</th>\n",
       "      <td>70</td>\n",
       "      <td>44</td>\n",
       "      <td>106</td>\n",
       "      <td>206</td>\n",
       "      <td>497</td>\n",
       "      <td>692</td>\n",
       "      <td>432</td>\n",
       "      <td>534</td>\n",
       "      <td>2581</td>\n",
       "    </tr>\n",
       "    <tr>\n",
       "      <th>9</th>\n",
       "      <td>37</td>\n",
       "      <td>13</td>\n",
       "      <td>22</td>\n",
       "      <td>39</td>\n",
       "      <td>121</td>\n",
       "      <td>211</td>\n",
       "      <td>165</td>\n",
       "      <td>246</td>\n",
       "      <td>854</td>\n",
       "    </tr>\n",
       "    <tr>\n",
       "      <th>10</th>\n",
       "      <td>147</td>\n",
       "      <td>114</td>\n",
       "      <td>149</td>\n",
       "      <td>214</td>\n",
       "      <td>518</td>\n",
       "      <td>938</td>\n",
       "      <td>1121</td>\n",
       "      <td>3174</td>\n",
       "      <td>6375</td>\n",
       "    </tr>\n",
       "    <tr>\n",
       "      <th>All</th>\n",
       "      <td>5022</td>\n",
       "      <td>2302</td>\n",
       "      <td>2541</td>\n",
       "      <td>2635</td>\n",
       "      <td>2307</td>\n",
       "      <td>2850</td>\n",
       "      <td>2344</td>\n",
       "      <td>4999</td>\n",
       "      <td>25000</td>\n",
       "    </tr>\n",
       "  </tbody>\n",
       "</table>\n",
       "</div>"
      ],
      "text/plain": [
       "Actual        1     2     3     4     7     8     9    10    All\n",
       "Predicted                                                       \n",
       "1          4155  1501  1266   925   340   356   281   595   9419\n",
       "2           128    78   106    76    25    30    18    35    496\n",
       "3           193   204   276   294   111    93    48    70   1289\n",
       "4           249   284   501   666   288   208   116   138   2450\n",
       "7            43    64   115   215   407   322   163   207   1536\n",
       "8            70    44   106   206   497   692   432   534   2581\n",
       "9            37    13    22    39   121   211   165   246    854\n",
       "10          147   114   149   214   518   938  1121  3174   6375\n",
       "All        5022  2302  2541  2635  2307  2850  2344  4999  25000"
      ]
     },
     "execution_count": 99,
     "metadata": {},
     "output_type": "execute_result"
    }
   ],
   "source": [
    "correct = 0\n",
    "wrong = 0\n",
    "act = []\n",
    "pred = []\n",
    "for (text,rating) in test_list:\n",
    "    p = classify(text)[0]\n",
    "    pred.append(p)\n",
    "    act.append(rating)\n",
    "    if(p == rating):\n",
    "        correct += 1\n",
    "    else:\n",
    "        wrong += 1\n",
    "print( \" Test accuracy is \", correct/(correct+wrong))\n",
    "y_actu = pd.Series(act, name='Actual')\n",
    "y_pred = pd.Series(pred, name='Predicted')\n",
    "df_confusion = pd.crosstab(y_pred,  y_actu, rownames=['Predicted'], colnames=['Actual'], margins=True)\n",
    "df_confusion"
   ]
  },
  {
   "cell_type": "markdown",
   "metadata": {},
   "source": [
    "## Feature Engineering"
   ]
  },
  {
   "cell_type": "code",
   "execution_count": 100,
   "metadata": {},
   "outputs": [],
   "source": [
    "pos_words = []\n",
    "neg_words = []\n",
    "with open(\"positive-words.txt\",\"r\") as text:\n",
    "    for line in text:\n",
    "        pos_words.append(line.strip())\n",
    "with open(\"negative-words.txt\",\"r\") as text:\n",
    "    for line in text:\n",
    "        neg_words.append(line.strip())\n",
    "pos_words = set(pos_words)\n",
    "neg_words = set(neg_words)"
   ]
  },
  {
   "cell_type": "code",
   "execution_count": 101,
   "metadata": {},
   "outputs": [],
   "source": [
    "train_list = []\n",
    "with open(\"imdb_train_text.txt\",\"r\") as text, open(\"imdb_train_labels.txt\",\"r\") as labels:\n",
    "    for line in text:\n",
    "        s = labels.readline()\n",
    "        line = line.replace(\"<br /><br />\", \" \")\n",
    "        line =  \"\".join([ c.lower() if c.isalnum() else \" \" for c in line ])\n",
    "        train_list.append((line,int(s)))\n",
    "# random.shuffle(train_list)"
   ]
  },
  {
   "cell_type": "code",
   "execution_count": 102,
   "metadata": {},
   "outputs": [],
   "source": [
    "test_list = []\n",
    "with open(\"imdb_test_text.txt\",\"r\") as text, open(\"imdb_test_labels.txt\",\"r\") as labels:\n",
    "    for line in text:\n",
    "        s = labels.readline()\n",
    "        line = line.replace(\"<br /><br />\", \" \")\n",
    "        line =  \"\".join([ c.lower() if c.isalnum() else \" \" for c in line ])\n",
    "        test_list.append((line,int(s)))\n",
    "# random.shuffle(test_list)"
   ]
  },
  {
   "cell_type": "code",
   "execution_count": 103,
   "metadata": {},
   "outputs": [],
   "source": [
    "try_dic = {}\n",
    "for el in train_list:\n",
    "    try:\n",
    "        try_dic[el[1]] +=1\n",
    "    except:\n",
    "        try_dic[el[1]] = 1"
   ]
  },
  {
   "cell_type": "code",
   "execution_count": 104,
   "metadata": {},
   "outputs": [
    {
     "data": {
      "text/plain": [
       "{1: 5100, 2: 2284, 3: 2420, 4: 2696, 7: 2496, 8: 3009, 9: 2263, 10: 4732}"
      ]
     },
     "execution_count": 104,
     "metadata": {},
     "output_type": "execute_result"
    }
   ],
   "source": [
    "try_dic"
   ]
  },
  {
   "cell_type": "code",
   "execution_count": 105,
   "metadata": {},
   "outputs": [],
   "source": [
    "vocab = {}\n",
    "word_given_class = {}\n",
    "for clas in try_dic.keys():\n",
    "    word_given_class[clas] = {}\n",
    "for (text,rating) in train_list:\n",
    "    text_list = text.split()\n",
    "    for word in text_list:\n",
    "        if (word not in pos_words) and (word not in neg_words):\n",
    "            continue\n",
    "        if word in vocab.keys():\n",
    "            vocab[word] += 1\n",
    "        else:\n",
    "            vocab[word] = 1\n",
    "        if word in word_given_class[rating].keys():\n",
    "            word_given_class[rating][word] +=1\n",
    "        else:\n",
    "            word_given_class[rating][word] = 1 "
   ]
  },
  {
   "cell_type": "code",
   "execution_count": 106,
   "metadata": {},
   "outputs": [],
   "source": [
    "def size_d(dic):\n",
    "    i = 0\n",
    "    for el in dic.keys():\n",
    "        i += dic[el]\n",
    "    return i"
   ]
  },
  {
   "cell_type": "code",
   "execution_count": 107,
   "metadata": {},
   "outputs": [],
   "source": [
    "size_of_class = {}\n",
    "for clas in try_dic.keys():\n",
    "    size_of_class[clas] = size_d(word_given_class[clas])\n",
    "voc_size = size_d(vocab)"
   ]
  },
  {
   "cell_type": "code",
   "execution_count": 108,
   "metadata": {},
   "outputs": [],
   "source": [
    "def classify(line):\n",
    "#     line =  \"\".join([ c.lower() if c.isalnum() else \" \" for c in line ])\n",
    "#     line = re.sub(\"<br />\",\" \",line)\n",
    "    text_list = line.split()\n",
    "    res = {}\n",
    "    for clas in try_dic.keys():\n",
    "        res[clas] = 0\n",
    "#         res[clas] += math.log(try_dic[clas])\n",
    "        for word in text_list:\n",
    "            if (word not in pos_words) and (word not in neg_words):\n",
    "                continue\n",
    "            if word in word_given_class[clas].keys():\n",
    "                res[clas] += math.log((word_given_class[clas][word]+1)/(size_of_class[clas]+len(vocab)))\n",
    "            else:\n",
    "                res[clas] += math.log((0+1)/(size_of_class[clas]+len(vocab)))\n",
    "    return (max(res,key=res.get),res)"
   ]
  },
  {
   "cell_type": "code",
   "execution_count": 109,
   "metadata": {},
   "outputs": [
    {
     "name": "stdout",
     "output_type": "stream",
     "text": [
      " Test accuracy is  0.36436\n"
     ]
    }
   ],
   "source": [
    "correct = 0\n",
    "wrong = 0\n",
    "for (text,rating) in test_list:\n",
    "    if(classify(text)[0] == rating):\n",
    "#     if(1 == rating):\n",
    "        correct += 1\n",
    "    else:\n",
    "        wrong += 1\n",
    "\n",
    "print( \" Test accuracy is \", correct/(correct+wrong))"
   ]
  },
  {
   "cell_type": "code",
   "execution_count": 110,
   "metadata": {},
   "outputs": [
    {
     "name": "stdout",
     "output_type": "stream",
     "text": [
      " Test accuracy is  0.36436\n"
     ]
    },
    {
     "data": {
      "text/html": [
       "<div>\n",
       "<style scoped>\n",
       "    .dataframe tbody tr th:only-of-type {\n",
       "        vertical-align: middle;\n",
       "    }\n",
       "\n",
       "    .dataframe tbody tr th {\n",
       "        vertical-align: top;\n",
       "    }\n",
       "\n",
       "    .dataframe thead th {\n",
       "        text-align: right;\n",
       "    }\n",
       "</style>\n",
       "<table border=\"1\" class=\"dataframe\">\n",
       "  <thead>\n",
       "    <tr style=\"text-align: right;\">\n",
       "      <th>Actual</th>\n",
       "      <th>1</th>\n",
       "      <th>2</th>\n",
       "      <th>3</th>\n",
       "      <th>4</th>\n",
       "      <th>7</th>\n",
       "      <th>8</th>\n",
       "      <th>9</th>\n",
       "      <th>10</th>\n",
       "      <th>All</th>\n",
       "    </tr>\n",
       "    <tr>\n",
       "      <th>Predicted</th>\n",
       "      <th></th>\n",
       "      <th></th>\n",
       "      <th></th>\n",
       "      <th></th>\n",
       "      <th></th>\n",
       "      <th></th>\n",
       "      <th></th>\n",
       "      <th></th>\n",
       "      <th></th>\n",
       "    </tr>\n",
       "  </thead>\n",
       "  <tbody>\n",
       "    <tr>\n",
       "      <th>1</th>\n",
       "      <td>3190</td>\n",
       "      <td>942</td>\n",
       "      <td>677</td>\n",
       "      <td>444</td>\n",
       "      <td>102</td>\n",
       "      <td>91</td>\n",
       "      <td>82</td>\n",
       "      <td>223</td>\n",
       "      <td>5751</td>\n",
       "    </tr>\n",
       "    <tr>\n",
       "      <th>2</th>\n",
       "      <td>616</td>\n",
       "      <td>328</td>\n",
       "      <td>356</td>\n",
       "      <td>308</td>\n",
       "      <td>70</td>\n",
       "      <td>53</td>\n",
       "      <td>46</td>\n",
       "      <td>91</td>\n",
       "      <td>1868</td>\n",
       "    </tr>\n",
       "    <tr>\n",
       "      <th>3</th>\n",
       "      <td>469</td>\n",
       "      <td>374</td>\n",
       "      <td>504</td>\n",
       "      <td>479</td>\n",
       "      <td>144</td>\n",
       "      <td>130</td>\n",
       "      <td>51</td>\n",
       "      <td>96</td>\n",
       "      <td>2247</td>\n",
       "    </tr>\n",
       "    <tr>\n",
       "      <th>4</th>\n",
       "      <td>362</td>\n",
       "      <td>360</td>\n",
       "      <td>546</td>\n",
       "      <td>679</td>\n",
       "      <td>306</td>\n",
       "      <td>217</td>\n",
       "      <td>113</td>\n",
       "      <td>161</td>\n",
       "      <td>2744</td>\n",
       "    </tr>\n",
       "    <tr>\n",
       "      <th>7</th>\n",
       "      <td>116</td>\n",
       "      <td>104</td>\n",
       "      <td>172</td>\n",
       "      <td>304</td>\n",
       "      <td>644</td>\n",
       "      <td>604</td>\n",
       "      <td>308</td>\n",
       "      <td>395</td>\n",
       "      <td>2647</td>\n",
       "    </tr>\n",
       "    <tr>\n",
       "      <th>8</th>\n",
       "      <td>64</td>\n",
       "      <td>67</td>\n",
       "      <td>95</td>\n",
       "      <td>185</td>\n",
       "      <td>407</td>\n",
       "      <td>538</td>\n",
       "      <td>387</td>\n",
       "      <td>568</td>\n",
       "      <td>2311</td>\n",
       "    </tr>\n",
       "    <tr>\n",
       "      <th>9</th>\n",
       "      <td>72</td>\n",
       "      <td>37</td>\n",
       "      <td>63</td>\n",
       "      <td>108</td>\n",
       "      <td>229</td>\n",
       "      <td>412</td>\n",
       "      <td>396</td>\n",
       "      <td>635</td>\n",
       "      <td>1952</td>\n",
       "    </tr>\n",
       "    <tr>\n",
       "      <th>10</th>\n",
       "      <td>133</td>\n",
       "      <td>90</td>\n",
       "      <td>128</td>\n",
       "      <td>128</td>\n",
       "      <td>405</td>\n",
       "      <td>805</td>\n",
       "      <td>961</td>\n",
       "      <td>2830</td>\n",
       "      <td>5480</td>\n",
       "    </tr>\n",
       "    <tr>\n",
       "      <th>All</th>\n",
       "      <td>5022</td>\n",
       "      <td>2302</td>\n",
       "      <td>2541</td>\n",
       "      <td>2635</td>\n",
       "      <td>2307</td>\n",
       "      <td>2850</td>\n",
       "      <td>2344</td>\n",
       "      <td>4999</td>\n",
       "      <td>25000</td>\n",
       "    </tr>\n",
       "  </tbody>\n",
       "</table>\n",
       "</div>"
      ],
      "text/plain": [
       "Actual        1     2     3     4     7     8     9    10    All\n",
       "Predicted                                                       \n",
       "1          3190   942   677   444   102    91    82   223   5751\n",
       "2           616   328   356   308    70    53    46    91   1868\n",
       "3           469   374   504   479   144   130    51    96   2247\n",
       "4           362   360   546   679   306   217   113   161   2744\n",
       "7           116   104   172   304   644   604   308   395   2647\n",
       "8            64    67    95   185   407   538   387   568   2311\n",
       "9            72    37    63   108   229   412   396   635   1952\n",
       "10          133    90   128   128   405   805   961  2830   5480\n",
       "All        5022  2302  2541  2635  2307  2850  2344  4999  25000"
      ]
     },
     "execution_count": 110,
     "metadata": {},
     "output_type": "execute_result"
    }
   ],
   "source": [
    "correct = 0\n",
    "wrong = 0\n",
    "act = []\n",
    "pred = []\n",
    "for (text,rating) in test_list:\n",
    "    p = classify(text)[0]\n",
    "    pred.append(p)\n",
    "    act.append(rating)\n",
    "    if(p == rating):\n",
    "        correct += 1\n",
    "    else:\n",
    "        wrong += 1\n",
    "print( \" Test accuracy is \", correct/(correct+wrong))\n",
    "y_actu = pd.Series(act, name='Actual')\n",
    "y_pred = pd.Series(pred, name='Predicted')\n",
    "df_confusion = pd.crosstab(y_pred,  y_actu, rownames=['Predicted'], colnames=['Actual'], margins=True)\n",
    "df_confusion"
   ]
  },
  {
   "cell_type": "code",
   "execution_count": 111,
   "metadata": {},
   "outputs": [
    {
     "data": {
      "text/plain": [
       "(10,\n",
       " {1: -117.98546666877958,\n",
       "  2: -115.26586762348616,\n",
       "  3: -114.79935725821286,\n",
       "  4: -116.76894292448473,\n",
       "  7: -115.28920533766437,\n",
       "  8: -113.99675673461151,\n",
       "  9: -112.85836912088479,\n",
       "  10: -112.62042076362854})"
      ]
     },
     "execution_count": 111,
     "metadata": {},
     "output_type": "execute_result"
    }
   ],
   "source": [
    "classify(test_list[190][0])"
   ]
  },
  {
   "cell_type": "code",
   "execution_count": 112,
   "metadata": {},
   "outputs": [
    {
     "data": {
      "text/plain": [
       "7"
      ]
     },
     "execution_count": 112,
     "metadata": {},
     "output_type": "execute_result"
    }
   ],
   "source": [
    "test_list[190][1]"
   ]
  },
  {
   "cell_type": "code",
   "execution_count": null,
   "metadata": {},
   "outputs": [],
   "source": []
  },
  {
   "cell_type": "code",
   "execution_count": null,
   "metadata": {},
   "outputs": [],
   "source": []
  },
  {
   "cell_type": "code",
   "execution_count": null,
   "metadata": {},
   "outputs": [],
   "source": []
  },
  {
   "cell_type": "code",
   "execution_count": null,
   "metadata": {},
   "outputs": [],
   "source": []
  }
 ],
 "metadata": {
  "kernelspec": {
   "display_name": "Python 3",
   "language": "python",
   "name": "python3"
  },
  "language_info": {
   "codemirror_mode": {
    "name": "ipython",
    "version": 3
   },
   "file_extension": ".py",
   "mimetype": "text/x-python",
   "name": "python",
   "nbconvert_exporter": "python",
   "pygments_lexer": "ipython3",
   "version": "3.6.3"
  },
  "varInspector": {
   "cols": {
    "lenName": 16,
    "lenType": 16,
    "lenVar": 40
   },
   "kernels_config": {
    "python": {
     "delete_cmd_postfix": "",
     "delete_cmd_prefix": "del ",
     "library": "var_list.py",
     "varRefreshCmd": "print(var_dic_list())"
    },
    "r": {
     "delete_cmd_postfix": ") ",
     "delete_cmd_prefix": "rm(",
     "library": "var_list.r",
     "varRefreshCmd": "cat(var_dic_list()) "
    }
   },
   "types_to_exclude": [
    "module",
    "function",
    "builtin_function_or_method",
    "instance",
    "_Feature"
   ],
   "window_display": false
  }
 },
 "nbformat": 4,
 "nbformat_minor": 2
}
