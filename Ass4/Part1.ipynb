{
 "cells": [
  {
   "cell_type": "code",
   "execution_count": 1,
   "metadata": {
    "ExecuteTime": {
     "end_time": "2018-04-20T09:48:22.477589Z",
     "start_time": "2018-04-20T09:48:22.141332Z"
    }
   },
   "outputs": [],
   "source": [
    "import numpy as np\n",
    "import sklearn\n",
    "import matplotlib.pyplot as plt\n",
    "%matplotlib inline\n",
    "import os"
   ]
  },
  {
   "cell_type": "code",
   "execution_count": 2,
   "metadata": {
    "ExecuteTime": {
     "end_time": "2018-04-20T09:48:22.496151Z",
     "start_time": "2018-04-20T09:48:22.488953Z"
    }
   },
   "outputs": [],
   "source": [
    "trfiles = os.listdir(\"./train/\")\n",
    "cats = [c.split(\".\")[0] for c in trfiles]\n",
    "cid_to_cat = {}\n",
    "cat_to_cid = {}\n",
    "for idx,cat in zip(range(len(cats)),cats):\n",
    "    cat_to_cid[cat] = idx\n",
    "    cid_to_cat[idx] = cat"
   ]
  },
  {
   "cell_type": "code",
   "execution_count": 3,
   "metadata": {
    "ExecuteTime": {
     "end_time": "2018-04-20T09:48:25.875562Z",
     "start_time": "2018-04-20T09:48:22.589615Z"
    }
   },
   "outputs": [],
   "source": [
    "known_data = None\n",
    "for file in trfiles:\n",
    "    d = np.load(\"train/\"+file)\n",
    "    myidx = cat_to_cid[file.split(\".\")[0]]\n",
    "    idarr = myidx + np.zeros(d.shape[0])\n",
    "    d = np.concatenate((d,idarr[:,np.newaxis]),axis=1)\n",
    "    if known_data is None:\n",
    "        known_data = d\n",
    "    else:\n",
    "        known_data = np.concatenate((known_data,d),axis=0)"
   ]
  },
  {
   "cell_type": "code",
   "execution_count": 4,
   "metadata": {
    "ExecuteTime": {
     "end_time": "2018-04-20T09:48:26.255741Z",
     "start_time": "2018-04-20T09:48:25.894035Z"
    }
   },
   "outputs": [],
   "source": [
    "np.random.shuffle(known_data)"
   ]
  },
  {
   "cell_type": "code",
   "execution_count": 5,
   "metadata": {
    "ExecuteTime": {
     "end_time": "2018-04-20T09:48:26.277492Z",
     "start_time": "2018-04-20T09:48:26.271985Z"
    }
   },
   "outputs": [],
   "source": [
    "train_data = known_data[:int(0.8*known_data.shape[0]),:]\n",
    "val_data = known_data[int(0.8*known_data.shape[0]):,:]"
   ]
  },
  {
   "cell_type": "code",
   "execution_count": 6,
   "metadata": {
    "ExecuteTime": {
     "end_time": "2018-04-20T09:48:27.623471Z",
     "start_time": "2018-04-20T09:48:26.297040Z"
    }
   },
   "outputs": [],
   "source": [
    "train_x = train_data[:,:784]\n",
    "train_y = train_data[:,784]\n",
    "val_x = val_data[:,:784].astype(int)\n",
    "val_y = val_data[:,784].astype(int)\n",
    "train_x = (train_x - train_x.mean(axis=0) ) / train_x.std(axis=0) \n",
    "val_x = (val_x - val_x.mean(axis=0) ) / val_x.std(axis=0) "
   ]
  },
  {
   "cell_type": "code",
   "execution_count": 7,
   "metadata": {
    "ExecuteTime": {
     "end_time": "2018-04-20T09:48:27.648607Z",
     "start_time": "2018-04-20T09:48:27.643899Z"
    }
   },
   "outputs": [
    {
     "data": {
      "text/plain": [
       "(80000,)"
      ]
     },
     "execution_count": 7,
     "metadata": {},
     "output_type": "execute_result"
    }
   ],
   "source": [
    "train_y.shape"
   ]
  },
  {
   "cell_type": "markdown",
   "metadata": {},
   "source": [
    "## PCA + SVM"
   ]
  },
  {
   "cell_type": "code",
   "execution_count": 8,
   "metadata": {
    "ExecuteTime": {
     "end_time": "2018-04-20T09:48:27.918732Z",
     "start_time": "2018-04-20T09:48:27.673699Z"
    }
   },
   "outputs": [],
   "source": [
    "from sklearn.decomposition import PCA\n",
    "from sklearn.svm import LinearSVC"
   ]
  },
  {
   "cell_type": "code",
   "execution_count": null,
   "metadata": {},
   "outputs": [],
   "source": []
  },
  {
   "cell_type": "code",
   "execution_count": 9,
   "metadata": {
    "ExecuteTime": {
     "end_time": "2018-04-20T09:54:55.335725Z",
     "start_time": "2018-04-20T09:48:56.736683Z"
    }
   },
   "outputs": [
    {
     "data": {
      "text/plain": [
       "LinearSVC(C=1.0, class_weight=None, dual=True, fit_intercept=True,\n",
       "     intercept_scaling=1, loss='squared_hinge', max_iter=1000,\n",
       "     multi_class='ovr', penalty='l2', random_state=None, tol=0.0001,\n",
       "     verbose=0)"
      ]
     },
     "execution_count": 9,
     "metadata": {},
     "output_type": "execute_result"
    }
   ],
   "source": [
    "pca = PCA(n_components=20)# adjust yourself\n",
    "pca.fit(train_x)\n",
    "train_x_trans = pca.transform(train_x)\n",
    "val_x_trans = pca.transform(val_x)\n",
    "clf = LinearSVC()\n",
    "clf.fit(train_x_trans, train_y)"
   ]
  },
  {
   "cell_type": "code",
   "execution_count": 10,
   "metadata": {
    "ExecuteTime": {
     "end_time": "2018-04-20T09:54:55.380466Z",
     "start_time": "2018-04-20T09:54:55.362535Z"
    }
   },
   "outputs": [],
   "source": [
    "preds = clf.predict(val_x_trans)"
   ]
  },
  {
   "cell_type": "code",
   "execution_count": 11,
   "metadata": {
    "ExecuteTime": {
     "end_time": "2018-04-20T09:54:55.418716Z",
     "start_time": "2018-04-20T09:54:55.412507Z"
    }
   },
   "outputs": [
    {
     "data": {
      "text/plain": [
       "0.54665"
      ]
     },
     "execution_count": 11,
     "metadata": {},
     "output_type": "execute_result"
    }
   ],
   "source": [
    "sklearn.metrics.accuracy_score(val_y,preds)"
   ]
  },
  {
   "cell_type": "code",
   "execution_count": 30,
   "metadata": {
    "ExecuteTime": {
     "end_time": "2018-04-20T10:06:17.602131Z",
     "start_time": "2018-04-20T10:06:17.585826Z"
    }
   },
   "outputs": [
    {
     "name": "stdout",
     "output_type": "stream",
     "text": [
      "             precision    recall  f1-score   support\n",
      "\n",
      "       nose       0.68      0.82      0.74      1021\n",
      "   trombone       0.37      0.18      0.24      1002\n",
      " skyscraper       0.52      0.47      0.49       987\n",
      "       foot       0.62      0.30      0.40      1011\n",
      "     banana       0.49      0.34      0.40       936\n",
      "      chair       0.54      0.62      0.57      1015\n",
      "       hand       0.74      0.86      0.79       993\n",
      "    penguin       0.62      0.76      0.68       983\n",
      "     parrot       0.40      0.09      0.15      1040\n",
      "   keyboard       0.60      0.70      0.65      1033\n",
      "     spider       0.52      0.38      0.44       964\n",
      "        hat       0.59      0.55      0.57      1033\n",
      "  bulldozer       0.42      0.60      0.50      1016\n",
      " eyeglasses       0.52      0.80      0.63       986\n",
      " flashlight       0.47      0.23      0.31       997\n",
      "        pig       0.49      0.59      0.53      1006\n",
      "     laptop       0.60      0.71      0.65       996\n",
      "     violin       0.45      0.54      0.49      1008\n",
      "       harp       0.49      0.66      0.56       997\n",
      "    snowman       0.60      0.72      0.66       976\n",
      "\n",
      "avg / total       0.54      0.55      0.52     20000\n",
      "\n"
     ]
    }
   ],
   "source": [
    "print(sklearn.metrics.classification_report(val_y,preds,labels=list(range(20)),target_names=[cid_to_cat[ii] for ii in range(20)]))"
   ]
  },
  {
   "cell_type": "code",
   "execution_count": 29,
   "metadata": {
    "ExecuteTime": {
     "end_time": "2018-04-20T10:04:42.519756Z",
     "start_time": "2018-04-20T10:04:42.506980Z"
    }
   },
   "outputs": [
    {
     "data": {
      "text/plain": [
       "{0: 'nose',\n",
       " 1: 'trombone',\n",
       " 2: 'skyscraper',\n",
       " 3: 'foot',\n",
       " 4: 'banana',\n",
       " 5: 'chair',\n",
       " 6: 'hand',\n",
       " 7: 'penguin',\n",
       " 8: 'parrot',\n",
       " 9: 'keyboard',\n",
       " 10: 'spider',\n",
       " 11: 'hat',\n",
       " 12: 'bulldozer',\n",
       " 13: 'eyeglasses',\n",
       " 14: 'flashlight',\n",
       " 15: 'pig',\n",
       " 16: 'laptop',\n",
       " 17: 'violin',\n",
       " 18: 'harp',\n",
       " 19: 'snowman'}"
      ]
     },
     "execution_count": 29,
     "metadata": {},
     "output_type": "execute_result"
    }
   ],
   "source": [
    "cid_to_cat"
   ]
  },
  {
   "cell_type": "code",
   "execution_count": null,
   "metadata": {},
   "outputs": [],
   "source": []
  },
  {
   "cell_type": "code",
   "execution_count": 25,
   "metadata": {
    "ExecuteTime": {
     "end_time": "2018-04-20T10:03:56.341268Z",
     "start_time": "2018-04-20T10:03:56.327047Z"
    }
   },
   "outputs": [
    {
     "name": "stdout",
     "output_type": "stream",
     "text": [
      "I -  322 Predicted  hat  but was  spider\n",
      "corr  spider\n",
      "I -  324 Predicted  snowman  but was  violin\n",
      "corr  eyeglasses\n",
      "corr  hand\n",
      "I -  327 Predicted  keyboard  but was  pig\n",
      "corr  harp\n",
      "corr  pig\n",
      "corr  pig\n",
      "corr  eyeglasses\n",
      "I -  332 Predicted  bulldozer  but was  keyboard\n"
     ]
    }
   ],
   "source": [
    "for i in range(322,333):\n",
    "    f = clf.predict(val_x_trans[i,:][np.newaxis,])\n",
    "    if f == val_y[i]:\n",
    "        print (\"corr \",cid_to_cat[f[0]])\n",
    "    else:\n",
    "        print(\"I - \",i,\"Predicted \",cid_to_cat[f[0]], \" but was \",cid_to_cat[val_y[i]])"
   ]
  },
  {
   "cell_type": "code",
   "execution_count": 26,
   "metadata": {
    "ExecuteTime": {
     "end_time": "2018-04-20T10:04:02.486697Z",
     "start_time": "2018-04-20T10:04:02.320409Z"
    }
   },
   "outputs": [
    {
     "data": {
      "text/plain": [
       "<matplotlib.image.AxesImage at 0x7fa53a2cfe48>"
      ]
     },
     "execution_count": 26,
     "metadata": {},
     "output_type": "execute_result"
    },
    {
     "data": {
      "image/png": "[encoded data removed]",
      "text/plain": [
       "<matplotlib.figure.Figure at 0x7fa539f386a0>"
      ]
     },
     "metadata": {},
     "output_type": "display_data"
    }
   ],
   "source": [
    "plt.imshow(val_x[332,:].reshape(28,28))"
   ]
  },
  {
   "cell_type": "code",
   "execution_count": null,
   "metadata": {},
   "outputs": [],
   "source": []
  },
  {
   "cell_type": "code",
   "execution_count": null,
   "metadata": {},
   "outputs": [],
   "source": []
  },
  {
   "cell_type": "code",
   "execution_count": null,
   "metadata": {},
   "outputs": [],
   "source": []
  },
  {
   "cell_type": "code",
   "execution_count": null,
   "metadata": {},
   "outputs": [],
   "source": []
  },
  {
   "cell_type": "code",
   "execution_count": null,
   "metadata": {},
   "outputs": [],
   "source": []
  },
  {
   "cell_type": "code",
   "execution_count": null,
   "metadata": {},
   "outputs": [],
   "source": []
  },
  {
   "cell_type": "code",
   "execution_count": null,
   "metadata": {
    "ExecuteTime": {
     "start_time": "2018-04-20T09:39:04.840Z"
    }
   },
   "outputs": [],
   "source": [
    "print ('score', clf.score(val_x_trans, val_y))\n",
    "print ('pred label', clf.predict(val_x_trans)[:20])"
   ]
  },
  {
   "cell_type": "code",
   "execution_count": null,
   "metadata": {},
   "outputs": [],
   "source": []
  },
  {
   "cell_type": "code",
   "execution_count": null,
   "metadata": {},
   "outputs": [],
   "source": []
  },
  {
   "cell_type": "code",
   "execution_count": null,
   "metadata": {},
   "outputs": [],
   "source": []
  },
  {
   "cell_type": "code",
   "execution_count": null,
   "metadata": {},
   "outputs": [],
   "source": []
  }
 ],
 "metadata": {
  "kernelspec": {
   "display_name": "Python 3",
   "language": "python",
   "name": "python3"
  },
  "language_info": {
   "codemirror_mode": {
    "name": "ipython",
    "version": 3
   },
   "file_extension": ".py",
   "mimetype": "text/x-python",
   "name": "python",
   "nbconvert_exporter": "python",
   "pygments_lexer": "ipython3",
   "version": "3.6.5"
  },
  "varInspector": {
   "cols": {
    "lenName": 16,
    "lenType": 16,
    "lenVar": 40
   },
   "kernels_config": {
    "python": {
     "delete_cmd_postfix": "",
     "delete_cmd_prefix": "del ",
     "library": "var_list.py",
     "varRefreshCmd": "print(var_dic_list())"
    },
    "r": {
     "delete_cmd_postfix": ") ",
     "delete_cmd_prefix": "rm(",
     "library": "var_list.r",
     "varRefreshCmd": "cat(var_dic_list()) "
    }
   },
   "types_to_exclude": [
    "module",
    "function",
    "builtin_function_or_method",
    "instance",
    "_Feature"
   ],
   "window_display": false
  }
 },
 "nbformat": 4,
 "nbformat_minor": 2
}
