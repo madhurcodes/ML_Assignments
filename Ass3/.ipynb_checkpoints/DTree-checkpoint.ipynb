{
 "cells": [
  {
   "cell_type": "code",
   "execution_count": 128,
   "metadata": {
    "ExecuteTime": {
     "end_time": "2018-04-11T04:02:59.868975Z",
     "start_time": "2018-04-11T04:02:59.862108Z"
    }
   },
   "outputs": [],
   "source": [
    "import pickle\n",
    "import time\n",
    "import csv\n",
    "import numpy as np\n",
    "import matplotlib.pyplot as plt\n",
    "import pandas as pd\n",
    "import sys\n",
    "import statistics\n",
    "import math"
   ]
  },
  {
   "cell_type": "code",
   "execution_count": 129,
   "metadata": {
    "ExecuteTime": {
     "end_time": "2018-04-11T04:03:02.760868Z",
     "start_time": "2018-04-11T04:03:01.433658Z"
    }
   },
   "outputs": [
    {
     "name": "stdout",
     "output_type": "stream",
     "text": [
      "The sizes are  Train: 27000 , Validation: 3000 , Test: 7000\n"
     ]
    }
   ],
   "source": [
    "## The possible attributes in the data with the prediction at index 0. Smaller names for brevity.\n",
    "attributes = [\"rich\",\"age\",\"wc\",\"fnlwgt\",\"edu\",\"edun\",\"mar\",\"occ\",\"rel\",\"race\",\"sex\",\"capg\",\"canpl\",\"hpw\",\"nc\"]\n",
    "\n",
    "## Get the encoding of the csv file by replacing each categorical attribute value by its index.\n",
    "wc_l = \"Private, Self-emp-not-inc, Self-emp-inc, Federal-gov, Local-gov, State-gov, Without-pay, Never-worked\".split(\", \")\n",
    "edu_l = \"Bachelors, Some-college, 11th, HS-grad, Prof-school, Assoc-acdm, Assoc-voc, 9th, 7th-8th, 12th, Masters, 1st-4th, 10th, Doctorate, 5th-6th, Preschool\".split(\", \")\n",
    "mar_l = \"Married-civ-spouse, Divorced, Never-married, Separated, Widowed, Married-spouse-absent, Married-AF-spouse\".split(\", \")\n",
    "occ_l = \"Tech-support, Craft-repair, Other-service, Sales, Exec-managerial, Prof-specialty, Handlers-cleaners, Machine-op-inspct, Adm-clerical, Farming-fishing, Transport-moving, Priv-house-serv, Protective-serv, Armed-Forces\".split(\", \")\n",
    "rel_l = \"Wife, Own-child, Husband, Not-in-family, Other-relative, Unmarried\".split(\", \")\n",
    "race_l = \"White, Asian-Pac-Islander, Amer-Indian-Eskimo, Other, Black\".split(\", \")\n",
    "sex_l = \"Female, Male\".split(\", \")\n",
    "nc_l = \"United-States, Cambodia, England, Puerto-Rico, Canada, Germany, Outlying-US(Guam-USVI-etc), India, Japan, Greece, South, China, Cuba, Iran, Honduras, Philippines, Italy, Poland, Jamaica, Vietnam, Mexico, Portugal, Ireland, France, Dominican-Republic, Laos, Ecuador, Taiwan, Haiti, Columbia, Hungary, Guatemala, Nicaragua, Scotland, Thailand, Yugoslavia, El-Salvador, Trinadad&Tobago, Peru, Hong, Holand-Netherlands\".split(\", \")\n",
    "encode = {\n",
    "    \"rich\"   : {\"0\":0,\"1\":1},\n",
    "    \"wc\"     : {wc_l[i]:i for i in range(len(wc_l))},\n",
    "    \"edu\"    : {edu_l[i]:i for i in range(len(edu_l))},\n",
    "    \"mar\"    : {mar_l[i]:i for i in range(len(mar_l))},\n",
    "    \"occ\"    : {occ_l[i]:i for i in range(len(occ_l))},\n",
    "    \"rel\"    : {rel_l[i]:i for i in range(len(rel_l))},\n",
    "    \"race\"   : {race_l[i]:i for i in range(len(race_l))},\n",
    "    \"sex\"    : {sex_l[i]:i for i in range(len(sex_l))},\n",
    "    \"nc\"     : {nc_l[i]:i for i in range(len(nc_l))},\n",
    "    }\n",
    "\n",
    "def medians(file):\n",
    "    \"\"\"\n",
    "    Given a csv file, find the medians of the categorical attributes for the whole data.\n",
    "    params(1): \n",
    "        file : string : the name of the file\n",
    "    outputs(6):\n",
    "        median values for the categorical columns\n",
    "    \"\"\"\n",
    "    fin = open(file,\"r\")\n",
    "    reader = csv.reader(fin)\n",
    "    age, fnlwgt, edun, capg, capl, hpw = ([] for i in range(6))\n",
    "    total = 0\n",
    "    for row in reader:\n",
    "        total+=1\n",
    "        if(total==1):\n",
    "            continue\n",
    "        l = [x.lstrip().rstrip() for x in row]\n",
    "        age.append(int(l[0]));\n",
    "        fnlwgt.append(int(l[2]));\n",
    "        edun.append(int(l[4]));\n",
    "        capg.append(int(l[10]));\n",
    "        capl.append(int(l[11]));\n",
    "        hpw.append(int(l[12]));\n",
    "    fin.close()\n",
    "    return(statistics.median(age),statistics.median(fnlwgt),statistics.median(edun),statistics.median(capg),statistics.median(capl),statistics.median(hpw))\n",
    "\n",
    "def preprocess(file):\n",
    "    \"\"\"\n",
    "    Given a file, read its data by encoding categorical attributes and binarising continuos attributes based on median.\n",
    "    params(1): \n",
    "        file : string : the name of the file\n",
    "    outputs(6):\n",
    "        2D numpy array with the data\n",
    "    \"\"\"\n",
    "    # Calculate the medians\n",
    "    agem,fnlwgtm,edunm,capgm,caplm,hpwm = medians(file)\n",
    "    fin = open(file,\"r\")\n",
    "    reader = csv.reader(fin)\n",
    "    data = []\n",
    "    total = 0\n",
    "    for row in reader:\n",
    "        total+=1\n",
    "        # Skip line 0 in the file\n",
    "        if(total==1):\n",
    "            continue\n",
    "        l = [x.lstrip().rstrip() for x in row]\n",
    "        t = [0 for i in range(15)]\n",
    "        \n",
    "        # Encode the categorical attributes\n",
    "        t[0] = encode[\"rich\"][l[-1]]; t[2] = encode[\"wc\"][l[1]]; t[4] = encode[\"edu\"][l[3]]\n",
    "        t[6] = encode[\"mar\"][l[5]]; t[7] = encode[\"occ\"][l[6]]; t[8] = encode[\"rel\"][l[7]]\n",
    "        t[9] = encode[\"race\"][l[8]]; t[10] = encode[\"sex\"][l[9]]; t[14] = encode[\"nc\"][l[13]]\n",
    "        \n",
    "        # Binarize the numerical attributes based on median.\n",
    "        # Modify this section to read the file in part c where you split the continuos attributes baed on dynamic median values.\n",
    "        t[1] = float(l[0])>=agem; t[3] = float(l[2])>=fnlwgtm; t[5] = float(l[4])>=edunm;\n",
    "        t[11] = float(l[10])>=capgm; t[12] = float(l[11])>=caplm; t[13] = float(l[12])>=hpwm;\n",
    "        \n",
    "        # Convert some of the booleans to ints\n",
    "        data.append([int(x) for x in t])\n",
    "    \n",
    "    return np.array(data,dtype=np.int64)\n",
    "\n",
    "## Read the data\n",
    "train_data = preprocess(\"dtree_data/train.csv\")\n",
    "valid_data = preprocess(\"dtree_data/valid.csv\")\n",
    "test_data = preprocess(\"dtree_data/test.csv\")\n",
    "\n",
    "print(\"The sizes are \",\"Train:\",len(train_data),\", Validation:\",len(valid_data),\", Test:\",len(test_data))"
   ]
  },
  {
   "cell_type": "code",
   "execution_count": 130,
   "metadata": {
    "ExecuteTime": {
     "end_time": "2018-04-11T04:03:04.394943Z",
     "start_time": "2018-04-11T04:03:03.848384Z"
    }
   },
   "outputs": [],
   "source": [
    "class DecisionTreeNode:\n",
    "    def __init__(self):\n",
    "        self.am_leaf = False\n",
    "        self.children = {} # feature_value:Node\n",
    "        self.feature_index = -1\n",
    "        self.Y_val = -1\n",
    "        self.Y_confidence = -1\n",
    "    def fit(self,X,Y):\n",
    "        all_same_class = np.all(Y==Y[0])\n",
    "        if all_same_class:\n",
    "            self.am_leaf = True\n",
    "            self.Y_val = Y[0]\n",
    "            self.Y_confidence = 1\n",
    "        else:\n",
    "            self.am_leaf = False\n",
    "            Y_vals , Y_counts = np.unique(Y,return_counts=True)\n",
    "            if Y_counts[0] >= Y_counts[1]:\n",
    "                self.Y_val = Y_vals[0]\n",
    "                self.Y_confidence = Y_counts[0] / (Y_counts[0] + Y_counts[1])\n",
    "            else:\n",
    "                self.Y_val = Y_vals[1]\n",
    "                self.Y_confidence = Y_counts[1] / (Y_counts[0] + Y_counts[1])\n",
    "            info_gain_list = [self.info_gain(X[:,ind],Y) for ind in range(0,X.shape[-1])]\n",
    "            max_info_gain = max(info_gain_list)\n",
    "            if max_info_gain <= 1e-8:\n",
    "                self.am_leaf = True\n",
    "                return\n",
    "            max_index = info_gain_list.index(max_info_gain)\n",
    "            X_column = X[:,max_index]\n",
    "            X_unique, X_counts = np.unique(X_column,return_counts=True)\n",
    "            self.feature_index = max_index\n",
    "            for X_val, X_count in zip(X_unique,X_counts):\n",
    "                subset_boolean = X_column==X_val\n",
    "                small_Y = Y[subset_boolean]\n",
    "                small_X = X[subset_boolean]\n",
    "                child = DecisionTreeNode()\n",
    "                self.children[X_val] = child\n",
    "                child.fit(small_X,small_Y)     \n",
    "    def predict_single(self,x):\n",
    "        if self.am_leaf:\n",
    "            return self.Y_val\n",
    "        else:\n",
    "            try:\n",
    "                child_node = self.children[x[self.feature_index]]\n",
    "                return child_node.predict_single(x)\n",
    "            except KeyError:\n",
    "                zero_prob = 0\n",
    "                one_prob = 0\n",
    "                for _,node in self.children.items():\n",
    "                    if node.predict_single(x) == 0:\n",
    "                        zero_prob += node.Y_confidence\n",
    "                    else:\n",
    "                        one_prob += node.Y_confidence\n",
    "#                 print(\"Zero prob is \",zero_prob,\" and one is \",one_prob)\n",
    "                if zero_prob >= one_prob:\n",
    "                    return 0\n",
    "                else:\n",
    "                    return 1\n",
    "    def info_gain(self,X_column,Y):\n",
    "        _ , Y_counts = np.unique(Y,return_counts=True)\n",
    "        num_examples = Y.shape[0]\n",
    "        initial_entropy = self.entropy(Y_counts)\n",
    "        X_unique, X_counts = np.unique(X_column,return_counts=True)\n",
    "        new_entropy = 0\n",
    "        for X_val, X_count in zip(X_unique,X_counts):\n",
    "            subset_boolean = X_column==X_val\n",
    "            small_Y = Y[subset_boolean]\n",
    "            _ , small_counts = np.unique(small_Y,return_counts=True)\n",
    "            new_entropy += X_count*self.entropy(small_counts)/num_examples\n",
    "        info_gain = initial_entropy - new_entropy\n",
    "        return info_gain\n",
    "    def entropy (self,arr):\n",
    "        n_elements = np.sum(arr)\n",
    "        ent = 0\n",
    "        for el in arr:\n",
    "            ent += -(el/n_elements)*math.log(el/n_elements)\n",
    "        return ent\n",
    "    def partial_fit_to_depth(self,X,Y,depth_target,depth_current):\n",
    "        all_same_class = np.all(Y==Y[0])\n",
    "        if all_same_class:\n",
    "            self.am_leaf = True\n",
    "            self.Y_val = Y[0]\n",
    "            self.Y_confidence = 1\n",
    "        else:\n",
    "            self.am_leaf = False\n",
    "            Y_vals , Y_counts = np.unique(Y,return_counts=True)\n",
    "            if Y_counts[0] >= Y_counts[1]:\n",
    "                self.Y_val = Y_vals[0]\n",
    "                self.Y_confidence = Y_counts[0] / (Y_counts[0] + Y_counts[1])\n",
    "            else:\n",
    "                self.Y_val = Y_vals[1]\n",
    "                self.Y_confidence = Y_counts[1] / (Y_counts[0] + Y_counts[1])\n",
    "            if depth_target == depth_current:\n",
    "                return\n",
    "            info_gain_list = [self.info_gain(X[:,ind],Y) for ind in range(0,X.shape[-1])]\n",
    "            max_info_gain = max(info_gain_list)\n",
    "            if max_info_gain <= 1e-8:\n",
    "                self.am_leaf = True\n",
    "                return\n",
    "            max_index = info_gain_list.index(max_info_gain)\n",
    "            X_column = X[:,max_index]\n",
    "            X_unique, X_counts = np.unique(X_column,return_counts=True)\n",
    "            self.feature_index = max_index\n",
    "            for X_val, X_count in zip(X_unique,X_counts):\n",
    "                subset_boolean = X_column==X_val\n",
    "                small_Y = Y[subset_boolean]\n",
    "                small_X = X[subset_boolean]\n",
    "                child = DecisionTreeNode()\n",
    "                self.children[X_val] = child\n",
    "                child.partial_fit_to_depth(small_X,small_Y,depth_target,depth_current+1)\n",
    "    def partial_predict_to_depth(self,x):\n",
    "                if len(self.children) == 0:\n",
    "                    return self.Y_val\n",
    "                try:\n",
    "                    child_node = self.children[x[self.feature_index]]\n",
    "                    return child_node.predict_single(x)\n",
    "                except KeyError:\n",
    "                    zero_prob = 0\n",
    "                    one_prob = 0\n",
    "                    for _,node in self.children.items():\n",
    "    #                     if node.predict_single(x) == 0:\n",
    "    #                         zero_prob += node.Y_confidence\n",
    "    #                     else:\n",
    "    #                         one_prob += node.Y_confidence\n",
    "                        if node.predict_single(x) == 0:\n",
    "                            zero_prob += 1\n",
    "                        else:\n",
    "                            one_prob += 1\n",
    "    #                 print(\"Zero prob is \",zero_prob,\" and one is \",one_prob)\n",
    "                    if zero_prob >= one_prob:\n",
    "                        return 0\n",
    "                    else:\n",
    "                        return 1"
   ]
  },
  {
   "cell_type": "code",
   "execution_count": 131,
   "metadata": {
    "ExecuteTime": {
     "end_time": "2018-04-11T04:03:05.166182Z",
     "start_time": "2018-04-11T04:03:05.132795Z"
    }
   },
   "outputs": [],
   "source": [
    "class DecisionTreeClassifier:\n",
    "    \"\"\"\n",
    "    Assumes X has discrete features represented by arbitrary integers and \n",
    "    Y is a boolean target variable represented as an array of 0's and 1's\n",
    "    \"\"\"\n",
    "    def __init__(self):\n",
    "        self.root = DecisionTreeNode()\n",
    "    def fit(self,X,Y):\n",
    "        self.root.fit(X,Y)\n",
    "    def predict(self,X):\n",
    "        pred = []\n",
    "        for example in X:\n",
    "            pred.append(self.root.predict_single(example))\n",
    "        return np.asarray(pred)\n",
    "    def partial_fit_to_depth(self,X,Y,depth):\n",
    "        self.root.partial_fit_to_depth(X,Y,depth,1)\n",
    "    def partial_predict_to_depth(self,X):\n",
    "        pred = []\n",
    "        for example in X:\n",
    "            pred.append(self.root.partial_predict_to_depth(example))\n",
    "        return np.asarray(pred)"
   ]
  },
  {
   "cell_type": "code",
   "execution_count": 132,
   "metadata": {
    "ExecuteTime": {
     "end_time": "2018-04-11T04:03:06.412787Z",
     "start_time": "2018-04-11T04:03:06.406475Z"
    }
   },
   "outputs": [],
   "source": [
    "train_X = train_data[:,1:]\n",
    "train_Y = train_data[:,0]\n",
    "valid_X = valid_data[:,1:]\n",
    "valid_Y = valid_data[:,0]\n",
    "test_X = test_data[:,1:]\n",
    "test_Y = test_data[:,0]"
   ]
  },
  {
   "cell_type": "code",
   "execution_count": 36,
   "metadata": {
    "ExecuteTime": {
     "end_time": "2018-04-10T10:16:29.552247Z",
     "start_time": "2018-04-10T10:16:29.547556Z"
    }
   },
   "outputs": [],
   "source": [
    "myclassifier = DecisionTreeClassifier()"
   ]
  },
  {
   "cell_type": "code",
   "execution_count": 37,
   "metadata": {
    "ExecuteTime": {
     "end_time": "2018-04-10T10:16:35.164426Z",
     "start_time": "2018-04-10T10:16:29.846096Z"
    }
   },
   "outputs": [],
   "source": [
    "myclassifier.fit(train_X,train_Y)"
   ]
  },
  {
   "cell_type": "code",
   "execution_count": 33,
   "metadata": {
    "ExecuteTime": {
     "end_time": "2018-04-10T10:16:25.485439Z",
     "start_time": "2018-04-10T10:16:25.462599Z"
    }
   },
   "outputs": [],
   "source": [
    "def count(node):\n",
    "    if node.am_leaf:\n",
    "        return 1\n",
    "    else:\n",
    "        c = 1\n",
    "        for _,ch in node.children.items():\n",
    "            c += count(ch)\n",
    "        return c"
   ]
  },
  {
   "cell_type": "code",
   "execution_count": 34,
   "metadata": {
    "ExecuteTime": {
     "end_time": "2018-04-10T10:16:25.726241Z",
     "start_time": "2018-04-10T10:16:25.722826Z"
    }
   },
   "outputs": [],
   "source": [
    "from sklearn.metrics import classification_report, accuracy_score"
   ]
  },
  {
   "cell_type": "code",
   "execution_count": 38,
   "metadata": {
    "ExecuteTime": {
     "end_time": "2018-04-10T10:16:35.199548Z",
     "start_time": "2018-04-10T10:16:35.183288Z"
    }
   },
   "outputs": [],
   "source": [
    "valid_pred = myclassifier.predict(valid_X)"
   ]
  },
  {
   "cell_type": "code",
   "execution_count": 39,
   "metadata": {
    "ExecuteTime": {
     "end_time": "2018-04-10T10:16:35.223042Z",
     "start_time": "2018-04-10T10:16:35.218462Z"
    }
   },
   "outputs": [
    {
     "name": "stdout",
     "output_type": "stream",
     "text": [
      "             precision    recall  f1-score   support\n",
      "\n",
      "          0       0.86      0.88      0.87      2236\n",
      "          1       0.62      0.57      0.59       764\n",
      "\n",
      "avg / total       0.80      0.80      0.80      3000\n",
      "\n"
     ]
    }
   ],
   "source": [
    "print(classification_report(valid_Y,valid_pred))"
   ]
  },
  {
   "cell_type": "code",
   "execution_count": 40,
   "metadata": {
    "ExecuteTime": {
     "end_time": "2018-04-10T10:16:35.244479Z",
     "start_time": "2018-04-10T10:16:35.240388Z"
    }
   },
   "outputs": [
    {
     "data": {
      "text/plain": [
       "0.801"
      ]
     },
     "execution_count": 40,
     "metadata": {},
     "output_type": "execute_result"
    }
   ],
   "source": [
    "accuracy_score(valid_Y,valid_pred)"
   ]
  },
  {
   "cell_type": "code",
   "execution_count": 140,
   "metadata": {
    "ExecuteTime": {
     "end_time": "2018-04-11T04:12:38.566258Z",
     "start_time": "2018-04-11T04:11:41.081644Z"
    }
   },
   "outputs": [
    {
     "name": "stdout",
     "output_type": "stream",
     "text": [
      "Depth is  1  Count is  1  Accuracy is  0.7453333333333333\n",
      "Depth is  2  Count is  7  Accuracy is  0.7453333333333333\n",
      "Depth is  3  Count is  92  Accuracy is  0.7453333333333333\n",
      "Depth is  4  Count is  709  Accuracy is  0.7463333333333333\n",
      "Depth is  5  Count is  2080  Accuracy is  0.7466666666666667\n",
      "Depth is  6  Count is  3414  Accuracy is  0.7466666666666667\n",
      "Depth is  7  Count is  4721  Accuracy is  0.745\n",
      "Depth is  8  Count is  5951  Accuracy is  0.7496666666666667\n",
      "Depth is  9  Count is  6954  Accuracy is  0.751\n",
      "Depth is  10  Count is  7625  Accuracy is  0.7646666666666667\n",
      "Depth is  11  Count is  7833  Accuracy is  0.7986666666666666\n",
      "Depth is  12  Count is  7898  Accuracy is  0.799\n",
      "Depth is  13  Count is  7898  Accuracy is  0.801\n",
      "Depth is  14  Count is  7898  Accuracy is  0.801\n",
      "Depth is  15  Count is  7898  Accuracy is  0.801\n",
      "Depth is  16  Count is  7898  Accuracy is  0.801\n",
      "Depth is  17  Count is  7898  Accuracy is  0.801\n"
     ]
    }
   ],
   "source": [
    "l = []\n",
    "for dep in range(1,18):\n",
    "    myclassifier = DecisionTreeClassifier()\n",
    "    myclassifier.partial_fit_to_depth(train_X,train_Y,dep)\n",
    "    valid_pred = myclassifier.partial_predict_to_depth(valid_X)\n",
    "    val_acc = accuracy_score(valid_Y,valid_pred)\n",
    "    train_pred = myclassifier.partial_predict_to_depth(train_X)\n",
    "    train_acc = accuracy_score(train_Y,train_pred)\n",
    "    test_pred = myclassifier.partial_predict_to_depth(test_X)\n",
    "    test_acc = accuracy_score(test_Y,test_pred)\n",
    "\n",
    "    \n",
    "    \n",
    "    l.append([count(myclassifier.root),train_acc,\"Train\"])\n",
    "    l.append([count(myclassifier.root),val_acc,\"Val\"])\n",
    "    l.append([count(myclassifier.root),test_acc,\"Test\"])\n",
    "\n",
    "    print(\"Depth is \",dep,\" Count is \",count(myclassifier.root),\" Accuracy is \",val_acc)"
   ]
  },
  {
   "cell_type": "code",
   "execution_count": 134,
   "metadata": {
    "ExecuteTime": {
     "end_time": "2018-04-11T04:06:16.616480Z",
     "start_time": "2018-04-11T04:06:16.565322Z"
    }
   },
   "outputs": [],
   "source": [
    "import seaborn as sns"
   ]
  },
  {
   "cell_type": "code",
   "execution_count": 141,
   "metadata": {
    "ExecuteTime": {
     "end_time": "2018-04-11T04:12:38.600152Z",
     "start_time": "2018-04-11T04:12:38.589956Z"
    }
   },
   "outputs": [],
   "source": [
    "mdat = pd.DataFrame(data=l,columns=[\"Number of Nodes\",\"Accuracy\",\"Type\"])"
   ]
  },
  {
   "cell_type": "code",
   "execution_count": 142,
   "metadata": {
    "ExecuteTime": {
     "end_time": "2018-04-11T04:12:39.441707Z",
     "start_time": "2018-04-11T04:12:38.626924Z"
    }
   },
   "outputs": [
    {
     "data": {
      "text/plain": [
       "<seaborn.axisgrid.FacetGrid at 0x7f565f16a8d0>"
      ]
     },
     "execution_count": 142,
     "metadata": {},
     "output_type": "execute_result"
    },
    {
     "data": {
      "image/png": "[encoded data removed]",
      "text/plain": [
       "<matplotlib.figure.Figure at 0x7f565f16aa20>"
      ]
     },
     "metadata": {},
     "output_type": "display_data"
    }
   ],
   "source": [
    "sns.lmplot(\"Number of Nodes\",\"Accuracy\",data=mdat,hue=\"Type\")"
   ]
  },
  {
   "cell_type": "code",
   "execution_count": null,
   "metadata": {},
   "outputs": [],
   "source": []
  },
  {
   "cell_type": "code",
   "execution_count": null,
   "metadata": {},
   "outputs": [],
   "source": []
  },
  {
   "cell_type": "code",
   "execution_count": null,
   "metadata": {},
   "outputs": [],
   "source": []
  },
  {
   "cell_type": "code",
   "execution_count": 143,
   "metadata": {
    "ExecuteTime": {
     "end_time": "2018-04-11T04:16:15.074971Z",
     "start_time": "2018-04-11T04:16:14.866725Z"
    }
   },
   "outputs": [],
   "source": [
    "# assume fitted with partial fit and will be predicted with partial predict\n",
    "def prune_decision_tree_node_once(node,val_x,val_y):\n",
    "    # prune once and return (node,increase_in_acc_after_pruning)\n",
    "    if (len(node.children) == 0) or (val_y.shape[0]==0):\n",
    "        return (node,0)\n",
    "    else:\n",
    "        children_tuples = []\n",
    "        for feat_val,ch in node.children.items():\n",
    "            ind = val_x[:,node.feature_index] == feat_val\n",
    "            children_tuples.append(prune_decision_tree_node_once(ch,val_x[ind,:],val_y[ind]))\n",
    "        pred = []\n",
    "        for example in val_x:\n",
    "            pred.append(node.partial_predict_to_depth(example))\n",
    "        pred = np.asarray(pred)\n",
    "        pred_pruned = np.asarray([node.Y_val for _ in range(val_y.shape[0])])\n",
    "        \n",
    "#         pred_accuracy = np.sum(pred == val_y)/val_y.shape[0]\n",
    "#         pred_pruned_accuracy = np.sum(pred_pruned == val_y)/val_y.shape[0]\n",
    "\n",
    "\n",
    "        pred_accuracy = np.sum(pred == val_y)\n",
    "        pred_pruned_accuracy = np.sum(pred_pruned == val_y)\n",
    "\n",
    "        incr = pred_pruned_accuracy - pred_accuracy\n",
    "        max_inc = -999999\n",
    "        for tup in children_tuples:\n",
    "            if tup[1] >= max_inc:\n",
    "                max_inc = tup[1]\n",
    "                max_node = tup[0]\n",
    "        if incr >= max_inc:\n",
    "            max_inc = incr\n",
    "            max_node = node\n",
    "#         print(\"Max inc is \",max_inc)\n",
    "        return (max_node,max_inc) \n",
    "def prune_at_node(subtree_root_node,node_to_prune_at):\n",
    "    if subtree_root_node == node_to_prune_at:\n",
    "        subtree_root_node.children = {}\n",
    "        subtree_root_node.am_leaf = True\n",
    "        subtree_root_node.feature_index  = -1\n",
    "        return True\n",
    "    elif len(subtree_root_node.children) == 0:\n",
    "        return False\n",
    "    else:\n",
    "        done = False\n",
    "        for _,child in subtree_root_node.children.items():\n",
    "            done = done or prune_at_node(child,node_to_prune_at)\n",
    "            if done:\n",
    "                return True\n",
    "def prune_decision_tree_classifier(classifier,val_X,val_Y):\n",
    "    root_node = classifier.root\n",
    "    increase = 1\n",
    "    while increase>0.0000001:\n",
    "        node_to_prune_at, increase = prune_decision_tree_node_once(root_node,val_X,val_Y)\n",
    "        \n",
    "        pred = []\n",
    "        for example in val_X:\n",
    "            pred.append(root_node.partial_predict_to_depth(example))\n",
    "        pred = np.asarray(pred)\n",
    "        initial_accuracy = np.sum(pred == val_Y)/val_Y.shape[0]\n",
    "\n",
    "#         print(len(node_to_prune_at.children))\n",
    "#         print(node_to_prune_at.am_leaf)\n",
    "\n",
    "        prune_at_node(root_node,node_to_prune_at)\n",
    "        \n",
    "        \n",
    "        pred = []\n",
    "        for example in val_X:\n",
    "            pred.append(root_node.partial_predict_to_depth(example))\n",
    "        pred = np.asarray(pred)\n",
    "        pruned_accuracy = np.sum(pred == val_Y)/val_Y.shape[0]\n",
    "        \n",
    "        if pruned_accuracy < initial_accuracy:\n",
    "            print(\"increase said \",increase,\" but i observed initial as \",\n",
    "                  initial_accuracy ,\" and pruned as \",pruned_accuracy )\n",
    "#             print(len(node_to_prune_at.children))\n",
    "#             print(node_to_prune_at.am_leaf)\n",
    "            break\n",
    "#         print(\"Pruned once with increase \",increase)"
   ]
  },
  {
   "cell_type": "code",
   "execution_count": 179,
   "metadata": {
    "ExecuteTime": {
     "end_time": "2018-04-11T04:55:38.085037Z",
     "start_time": "2018-04-11T04:55:32.315873Z"
    }
   },
   "outputs": [],
   "source": [
    "myclassifier = DecisionTreeClassifier()\n",
    "# myclassifier.partial_fi|t_to_depth(train_X,train_Y,18)\n",
    "myclassifier.fit(train_X,train_Y)"
   ]
  },
  {
   "cell_type": "code",
   "execution_count": 180,
   "metadata": {
    "ExecuteTime": {
     "end_time": "2018-04-11T04:55:38.151003Z",
     "start_time": "2018-04-11T04:55:38.103411Z"
    }
   },
   "outputs": [
    {
     "name": "stdout",
     "output_type": "stream",
     "text": [
      "No. of nodes is  7898  Val Acc is  0.801  and test Acc is  0.8055714285714286\n"
     ]
    }
   ],
   "source": [
    "valid_pred = myclassifier.predict(valid_X)\n",
    "val_acc = accuracy_score(valid_Y,valid_pred)\n",
    "test_pred = myclassifier.predict(test_X)\n",
    "test_acc = accuracy_score(test_Y,test_pred)\n",
    "print(\"No. of nodes is \",count(myclassifier.root),\" Val Acc is \",val_acc,\" and test Acc is \",test_acc)"
   ]
  },
  {
   "cell_type": "code",
   "execution_count": 181,
   "metadata": {
    "ExecuteTime": {
     "end_time": "2018-04-11T04:55:47.163087Z",
     "start_time": "2018-04-11T04:55:38.183074Z"
    }
   },
   "outputs": [],
   "source": [
    "root_node = myclassifier.root\n",
    "increase = 1\n",
    "l = []\n",
    "while increase>0.0000001:\n",
    "    node_to_prune_at, increase = prune_decision_tree_node_once(root_node,valid_X,valid_Y)\n",
    "   \n",
    "    valid_pred = myclassifier.partial_predict_to_depth(valid_X)\n",
    "    val_acc = accuracy_score(valid_Y,valid_pred)\n",
    "    train_pred = myclassifier.partial_predict_to_depth(train_X)\n",
    "    train_acc = accuracy_score(train_Y,train_pred)\n",
    "    test_pred = myclassifier.partial_predict_to_depth(test_X)\n",
    "    test_acc = accuracy_score(test_Y,test_pred)\n",
    "\n",
    "    \n",
    "    \n",
    "    l.append([count(myclassifier.root),train_acc,\"Train\"])\n",
    "    l.append([count(myclassifier.root),val_acc,\"Val\"])\n",
    "    l.append([count(myclassifier.root),test_acc,\"Test\"])\n",
    "\n",
    "    pred = []\n",
    "    for example in valid_X:\n",
    "        pred.append(root_node.partial_predict_to_depth(example))\n",
    "    pred = np.asarray(pred)\n",
    "    initial_accuracy = np.sum(pred == valid_Y)/valid_Y.shape[0]\n",
    "\n",
    "#         print(len(node_to_prune_at.children))\n",
    "#         print(node_to_prune_at.am_leaf)\n",
    "\n",
    "    prune_at_node(root_node,node_to_prune_at)\n",
    "\n",
    "\n",
    "    pred = []\n",
    "    for example in valid_X:\n",
    "        pred.append(root_node.partial_predict_to_depth(example))\n",
    "    pred = np.asarray(pred)\n",
    "    pruned_accuracy = np.sum(pred == valid_Y)/valid_Y.shape[0]\n",
    "\n",
    "    if pruned_accuracy < initial_accuracy:\n",
    "        print(\"increase said \",increase,\" but i observed initial as \",\n",
    "              initial_accuracy ,\" and pruned as \",pruned_accuracy )\n",
    "#             print(len(node_to_prune_at.children))\n",
    "#             print(node_to_prune_at.am_leaf)\n",
    "        break\n",
    "#         print(\"Pruned once with increase \",increase)"
   ]
  },
  {
   "cell_type": "code",
   "execution_count": null,
   "metadata": {},
   "outputs": [],
   "source": []
  },
  {
   "cell_type": "code",
   "execution_count": 182,
   "metadata": {
    "ExecuteTime": {
     "end_time": "2018-04-11T04:55:47.191024Z",
     "start_time": "2018-04-11T04:55:47.187670Z"
    }
   },
   "outputs": [],
   "source": [
    "mdat = pd.DataFrame(data=l,columns=[\"Number of Nodes\",\"Accuracy\",\"Type\"])"
   ]
  },
  {
   "cell_type": "code",
   "execution_count": 183,
   "metadata": {
    "ExecuteTime": {
     "end_time": "2018-04-11T04:55:47.251457Z",
     "start_time": "2018-04-11T04:55:47.220313Z"
    }
   },
   "outputs": [
    {
     "data": {
      "text/html": [
       "<div>\n",
       "<style scoped>\n",
       "    .dataframe tbody tr th:only-of-type {\n",
       "        vertical-align: middle;\n",
       "    }\n",
       "\n",
       "    .dataframe tbody tr th {\n",
       "        vertical-align: top;\n",
       "    }\n",
       "\n",
       "    .dataframe thead th {\n",
       "        text-align: right;\n",
       "    }\n",
       "</style>\n",
       "<table border=\"1\" class=\"dataframe\">\n",
       "  <thead>\n",
       "    <tr style=\"text-align: right;\">\n",
       "      <th></th>\n",
       "      <th>Number of Nodes</th>\n",
       "      <th>Accuracy</th>\n",
       "      <th>Type</th>\n",
       "    </tr>\n",
       "  </thead>\n",
       "  <tbody>\n",
       "    <tr>\n",
       "      <th>0</th>\n",
       "      <td>7898</td>\n",
       "      <td>0.889333</td>\n",
       "      <td>Train</td>\n",
       "    </tr>\n",
       "    <tr>\n",
       "      <th>1</th>\n",
       "      <td>7898</td>\n",
       "      <td>0.801000</td>\n",
       "      <td>Val</td>\n",
       "    </tr>\n",
       "    <tr>\n",
       "      <th>2</th>\n",
       "      <td>7898</td>\n",
       "      <td>0.805571</td>\n",
       "      <td>Test</td>\n",
       "    </tr>\n",
       "    <tr>\n",
       "      <th>3</th>\n",
       "      <td>5670</td>\n",
       "      <td>0.875111</td>\n",
       "      <td>Train</td>\n",
       "    </tr>\n",
       "    <tr>\n",
       "      <th>4</th>\n",
       "      <td>5670</td>\n",
       "      <td>0.809333</td>\n",
       "      <td>Val</td>\n",
       "    </tr>\n",
       "    <tr>\n",
       "      <th>5</th>\n",
       "      <td>5670</td>\n",
       "      <td>0.811857</td>\n",
       "      <td>Test</td>\n",
       "    </tr>\n",
       "    <tr>\n",
       "      <th>6</th>\n",
       "      <td>4819</td>\n",
       "      <td>0.869963</td>\n",
       "      <td>Train</td>\n",
       "    </tr>\n",
       "    <tr>\n",
       "      <th>7</th>\n",
       "      <td>4819</td>\n",
       "      <td>0.811333</td>\n",
       "      <td>Val</td>\n",
       "    </tr>\n",
       "    <tr>\n",
       "      <th>8</th>\n",
       "      <td>4819</td>\n",
       "      <td>0.815714</td>\n",
       "      <td>Test</td>\n",
       "    </tr>\n",
       "    <tr>\n",
       "      <th>9</th>\n",
       "      <td>4738</td>\n",
       "      <td>0.869333</td>\n",
       "      <td>Train</td>\n",
       "    </tr>\n",
       "    <tr>\n",
       "      <th>10</th>\n",
       "      <td>4738</td>\n",
       "      <td>0.812667</td>\n",
       "      <td>Val</td>\n",
       "    </tr>\n",
       "    <tr>\n",
       "      <th>11</th>\n",
       "      <td>4738</td>\n",
       "      <td>0.816000</td>\n",
       "      <td>Test</td>\n",
       "    </tr>\n",
       "    <tr>\n",
       "      <th>12</th>\n",
       "      <td>4609</td>\n",
       "      <td>0.868481</td>\n",
       "      <td>Train</td>\n",
       "    </tr>\n",
       "    <tr>\n",
       "      <th>13</th>\n",
       "      <td>4609</td>\n",
       "      <td>0.814000</td>\n",
       "      <td>Val</td>\n",
       "    </tr>\n",
       "    <tr>\n",
       "      <th>14</th>\n",
       "      <td>4609</td>\n",
       "      <td>0.815714</td>\n",
       "      <td>Test</td>\n",
       "    </tr>\n",
       "    <tr>\n",
       "      <th>15</th>\n",
       "      <td>4567</td>\n",
       "      <td>0.868074</td>\n",
       "      <td>Train</td>\n",
       "    </tr>\n",
       "    <tr>\n",
       "      <th>16</th>\n",
       "      <td>4567</td>\n",
       "      <td>0.815000</td>\n",
       "      <td>Val</td>\n",
       "    </tr>\n",
       "    <tr>\n",
       "      <th>17</th>\n",
       "      <td>4567</td>\n",
       "      <td>0.815714</td>\n",
       "      <td>Test</td>\n",
       "    </tr>\n",
       "    <tr>\n",
       "      <th>18</th>\n",
       "      <td>4130</td>\n",
       "      <td>0.866889</td>\n",
       "      <td>Train</td>\n",
       "    </tr>\n",
       "    <tr>\n",
       "      <th>19</th>\n",
       "      <td>4130</td>\n",
       "      <td>0.816000</td>\n",
       "      <td>Val</td>\n",
       "    </tr>\n",
       "    <tr>\n",
       "      <th>20</th>\n",
       "      <td>4130</td>\n",
       "      <td>0.816286</td>\n",
       "      <td>Test</td>\n",
       "    </tr>\n",
       "    <tr>\n",
       "      <th>21</th>\n",
       "      <td>3883</td>\n",
       "      <td>0.864074</td>\n",
       "      <td>Train</td>\n",
       "    </tr>\n",
       "    <tr>\n",
       "      <th>22</th>\n",
       "      <td>3883</td>\n",
       "      <td>0.817000</td>\n",
       "      <td>Val</td>\n",
       "    </tr>\n",
       "    <tr>\n",
       "      <th>23</th>\n",
       "      <td>3883</td>\n",
       "      <td>0.818143</td>\n",
       "      <td>Test</td>\n",
       "    </tr>\n",
       "    <tr>\n",
       "      <th>24</th>\n",
       "      <td>3715</td>\n",
       "      <td>0.861148</td>\n",
       "      <td>Train</td>\n",
       "    </tr>\n",
       "    <tr>\n",
       "      <th>25</th>\n",
       "      <td>3715</td>\n",
       "      <td>0.818000</td>\n",
       "      <td>Val</td>\n",
       "    </tr>\n",
       "    <tr>\n",
       "      <th>26</th>\n",
       "      <td>3715</td>\n",
       "      <td>0.817000</td>\n",
       "      <td>Test</td>\n",
       "    </tr>\n",
       "    <tr>\n",
       "      <th>27</th>\n",
       "      <td>3609</td>\n",
       "      <td>0.860741</td>\n",
       "      <td>Train</td>\n",
       "    </tr>\n",
       "    <tr>\n",
       "      <th>28</th>\n",
       "      <td>3609</td>\n",
       "      <td>0.818667</td>\n",
       "      <td>Val</td>\n",
       "    </tr>\n",
       "    <tr>\n",
       "      <th>29</th>\n",
       "      <td>3609</td>\n",
       "      <td>0.817143</td>\n",
       "      <td>Test</td>\n",
       "    </tr>\n",
       "    <tr>\n",
       "      <th>...</th>\n",
       "      <td>...</td>\n",
       "      <td>...</td>\n",
       "      <td>...</td>\n",
       "    </tr>\n",
       "    <tr>\n",
       "      <th>135</th>\n",
       "      <td>2436</td>\n",
       "      <td>0.850593</td>\n",
       "      <td>Train</td>\n",
       "    </tr>\n",
       "    <tr>\n",
       "      <th>136</th>\n",
       "      <td>2436</td>\n",
       "      <td>0.833000</td>\n",
       "      <td>Val</td>\n",
       "    </tr>\n",
       "    <tr>\n",
       "      <th>137</th>\n",
       "      <td>2436</td>\n",
       "      <td>0.824571</td>\n",
       "      <td>Test</td>\n",
       "    </tr>\n",
       "    <tr>\n",
       "      <th>138</th>\n",
       "      <td>2434</td>\n",
       "      <td>0.850556</td>\n",
       "      <td>Train</td>\n",
       "    </tr>\n",
       "    <tr>\n",
       "      <th>139</th>\n",
       "      <td>2434</td>\n",
       "      <td>0.833333</td>\n",
       "      <td>Val</td>\n",
       "    </tr>\n",
       "    <tr>\n",
       "      <th>140</th>\n",
       "      <td>2434</td>\n",
       "      <td>0.824571</td>\n",
       "      <td>Test</td>\n",
       "    </tr>\n",
       "    <tr>\n",
       "      <th>141</th>\n",
       "      <td>2428</td>\n",
       "      <td>0.850556</td>\n",
       "      <td>Train</td>\n",
       "    </tr>\n",
       "    <tr>\n",
       "      <th>142</th>\n",
       "      <td>2428</td>\n",
       "      <td>0.833667</td>\n",
       "      <td>Val</td>\n",
       "    </tr>\n",
       "    <tr>\n",
       "      <th>143</th>\n",
       "      <td>2428</td>\n",
       "      <td>0.824429</td>\n",
       "      <td>Test</td>\n",
       "    </tr>\n",
       "    <tr>\n",
       "      <th>144</th>\n",
       "      <td>2365</td>\n",
       "      <td>0.849778</td>\n",
       "      <td>Train</td>\n",
       "    </tr>\n",
       "    <tr>\n",
       "      <th>145</th>\n",
       "      <td>2365</td>\n",
       "      <td>0.834000</td>\n",
       "      <td>Val</td>\n",
       "    </tr>\n",
       "    <tr>\n",
       "      <th>146</th>\n",
       "      <td>2365</td>\n",
       "      <td>0.824286</td>\n",
       "      <td>Test</td>\n",
       "    </tr>\n",
       "    <tr>\n",
       "      <th>147</th>\n",
       "      <td>2353</td>\n",
       "      <td>0.849667</td>\n",
       "      <td>Train</td>\n",
       "    </tr>\n",
       "    <tr>\n",
       "      <th>148</th>\n",
       "      <td>2353</td>\n",
       "      <td>0.834333</td>\n",
       "      <td>Val</td>\n",
       "    </tr>\n",
       "    <tr>\n",
       "      <th>149</th>\n",
       "      <td>2353</td>\n",
       "      <td>0.824429</td>\n",
       "      <td>Test</td>\n",
       "    </tr>\n",
       "    <tr>\n",
       "      <th>150</th>\n",
       "      <td>2344</td>\n",
       "      <td>0.849630</td>\n",
       "      <td>Train</td>\n",
       "    </tr>\n",
       "    <tr>\n",
       "      <th>151</th>\n",
       "      <td>2344</td>\n",
       "      <td>0.834667</td>\n",
       "      <td>Val</td>\n",
       "    </tr>\n",
       "    <tr>\n",
       "      <th>152</th>\n",
       "      <td>2344</td>\n",
       "      <td>0.824571</td>\n",
       "      <td>Test</td>\n",
       "    </tr>\n",
       "    <tr>\n",
       "      <th>153</th>\n",
       "      <td>2342</td>\n",
       "      <td>0.849630</td>\n",
       "      <td>Train</td>\n",
       "    </tr>\n",
       "    <tr>\n",
       "      <th>154</th>\n",
       "      <td>2342</td>\n",
       "      <td>0.834667</td>\n",
       "      <td>Val</td>\n",
       "    </tr>\n",
       "    <tr>\n",
       "      <th>155</th>\n",
       "      <td>2342</td>\n",
       "      <td>0.824714</td>\n",
       "      <td>Test</td>\n",
       "    </tr>\n",
       "    <tr>\n",
       "      <th>156</th>\n",
       "      <td>2312</td>\n",
       "      <td>0.849259</td>\n",
       "      <td>Train</td>\n",
       "    </tr>\n",
       "    <tr>\n",
       "      <th>157</th>\n",
       "      <td>2312</td>\n",
       "      <td>0.835000</td>\n",
       "      <td>Val</td>\n",
       "    </tr>\n",
       "    <tr>\n",
       "      <th>158</th>\n",
       "      <td>2312</td>\n",
       "      <td>0.825000</td>\n",
       "      <td>Test</td>\n",
       "    </tr>\n",
       "    <tr>\n",
       "      <th>159</th>\n",
       "      <td>2308</td>\n",
       "      <td>0.849259</td>\n",
       "      <td>Train</td>\n",
       "    </tr>\n",
       "    <tr>\n",
       "      <th>160</th>\n",
       "      <td>2308</td>\n",
       "      <td>0.835333</td>\n",
       "      <td>Val</td>\n",
       "    </tr>\n",
       "    <tr>\n",
       "      <th>161</th>\n",
       "      <td>2308</td>\n",
       "      <td>0.825000</td>\n",
       "      <td>Test</td>\n",
       "    </tr>\n",
       "    <tr>\n",
       "      <th>162</th>\n",
       "      <td>2306</td>\n",
       "      <td>0.849222</td>\n",
       "      <td>Train</td>\n",
       "    </tr>\n",
       "    <tr>\n",
       "      <th>163</th>\n",
       "      <td>2306</td>\n",
       "      <td>0.835667</td>\n",
       "      <td>Val</td>\n",
       "    </tr>\n",
       "    <tr>\n",
       "      <th>164</th>\n",
       "      <td>2306</td>\n",
       "      <td>0.825000</td>\n",
       "      <td>Test</td>\n",
       "    </tr>\n",
       "  </tbody>\n",
       "</table>\n",
       "<p>165 rows × 3 columns</p>\n",
       "</div>"
      ],
      "text/plain": [
       "     Number of Nodes  Accuracy   Type\n",
       "0               7898  0.889333  Train\n",
       "1               7898  0.801000    Val\n",
       "2               7898  0.805571   Test\n",
       "3               5670  0.875111  Train\n",
       "4               5670  0.809333    Val\n",
       "5               5670  0.811857   Test\n",
       "6               4819  0.869963  Train\n",
       "7               4819  0.811333    Val\n",
       "8               4819  0.815714   Test\n",
       "9               4738  0.869333  Train\n",
       "10              4738  0.812667    Val\n",
       "11              4738  0.816000   Test\n",
       "12              4609  0.868481  Train\n",
       "13              4609  0.814000    Val\n",
       "14              4609  0.815714   Test\n",
       "15              4567  0.868074  Train\n",
       "16              4567  0.815000    Val\n",
       "17              4567  0.815714   Test\n",
       "18              4130  0.866889  Train\n",
       "19              4130  0.816000    Val\n",
       "20              4130  0.816286   Test\n",
       "21              3883  0.864074  Train\n",
       "22              3883  0.817000    Val\n",
       "23              3883  0.818143   Test\n",
       "24              3715  0.861148  Train\n",
       "25              3715  0.818000    Val\n",
       "26              3715  0.817000   Test\n",
       "27              3609  0.860741  Train\n",
       "28              3609  0.818667    Val\n",
       "29              3609  0.817143   Test\n",
       "..               ...       ...    ...\n",
       "135             2436  0.850593  Train\n",
       "136             2436  0.833000    Val\n",
       "137             2436  0.824571   Test\n",
       "138             2434  0.850556  Train\n",
       "139             2434  0.833333    Val\n",
       "140             2434  0.824571   Test\n",
       "141             2428  0.850556  Train\n",
       "142             2428  0.833667    Val\n",
       "143             2428  0.824429   Test\n",
       "144             2365  0.849778  Train\n",
       "145             2365  0.834000    Val\n",
       "146             2365  0.824286   Test\n",
       "147             2353  0.849667  Train\n",
       "148             2353  0.834333    Val\n",
       "149             2353  0.824429   Test\n",
       "150             2344  0.849630  Train\n",
       "151             2344  0.834667    Val\n",
       "152             2344  0.824571   Test\n",
       "153             2342  0.849630  Train\n",
       "154             2342  0.834667    Val\n",
       "155             2342  0.824714   Test\n",
       "156             2312  0.849259  Train\n",
       "157             2312  0.835000    Val\n",
       "158             2312  0.825000   Test\n",
       "159             2308  0.849259  Train\n",
       "160             2308  0.835333    Val\n",
       "161             2308  0.825000   Test\n",
       "162             2306  0.849222  Train\n",
       "163             2306  0.835667    Val\n",
       "164             2306  0.825000   Test\n",
       "\n",
       "[165 rows x 3 columns]"
      ]
     },
     "execution_count": 183,
     "metadata": {},
     "output_type": "execute_result"
    }
   ],
   "source": [
    "mdat"
   ]
  },
  {
   "cell_type": "code",
   "execution_count": 157,
   "metadata": {
    "ExecuteTime": {
     "end_time": "2018-04-11T04:26:15.653768Z",
     "start_time": "2018-04-11T04:26:15.132286Z"
    }
   },
   "outputs": [
    {
     "data": {
      "image/png": "[encoded data removed]",
      "text/plain": [
       "<matplotlib.figure.Figure at 0x7f565ba408d0>"
      ]
     },
     "metadata": {},
     "output_type": "display_data"
    }
   ],
   "source": [
    "ax = sns.lmplot(\"Number of Nodes\",\"Accuracy\",data=mdat,hue=\"Type\")\n",
    "ax.fig.axes[0].invert_xaxis()"
   ]
  },
  {
   "cell_type": "code",
   "execution_count": 158,
   "metadata": {
    "ExecuteTime": {
     "end_time": "2018-04-11T04:28:12.961657Z",
     "start_time": "2018-04-11T04:28:12.929538Z"
    }
   },
   "outputs": [
    {
     "data": {
      "text/html": [
       "<div>\n",
       "<style scoped>\n",
       "    .dataframe tbody tr th:only-of-type {\n",
       "        vertical-align: middle;\n",
       "    }\n",
       "\n",
       "    .dataframe tbody tr th {\n",
       "        vertical-align: top;\n",
       "    }\n",
       "\n",
       "    .dataframe thead th {\n",
       "        text-align: right;\n",
       "    }\n",
       "</style>\n",
       "<table border=\"1\" class=\"dataframe\">\n",
       "  <thead>\n",
       "    <tr style=\"text-align: right;\">\n",
       "      <th></th>\n",
       "      <th>Number of Nodes</th>\n",
       "      <th>Accuracy</th>\n",
       "      <th>Type</th>\n",
       "    </tr>\n",
       "  </thead>\n",
       "  <tbody>\n",
       "    <tr>\n",
       "      <th>0</th>\n",
       "      <td>7898</td>\n",
       "      <td>0.889333</td>\n",
       "      <td>Train</td>\n",
       "    </tr>\n",
       "    <tr>\n",
       "      <th>1</th>\n",
       "      <td>7898</td>\n",
       "      <td>0.801000</td>\n",
       "      <td>Val</td>\n",
       "    </tr>\n",
       "    <tr>\n",
       "      <th>2</th>\n",
       "      <td>7898</td>\n",
       "      <td>0.805571</td>\n",
       "      <td>Test</td>\n",
       "    </tr>\n",
       "    <tr>\n",
       "      <th>3</th>\n",
       "      <td>5670</td>\n",
       "      <td>0.875111</td>\n",
       "      <td>Train</td>\n",
       "    </tr>\n",
       "    <tr>\n",
       "      <th>4</th>\n",
       "      <td>5670</td>\n",
       "      <td>0.809333</td>\n",
       "      <td>Val</td>\n",
       "    </tr>\n",
       "    <tr>\n",
       "      <th>5</th>\n",
       "      <td>5670</td>\n",
       "      <td>0.811857</td>\n",
       "      <td>Test</td>\n",
       "    </tr>\n",
       "    <tr>\n",
       "      <th>6</th>\n",
       "      <td>4819</td>\n",
       "      <td>0.869963</td>\n",
       "      <td>Train</td>\n",
       "    </tr>\n",
       "    <tr>\n",
       "      <th>7</th>\n",
       "      <td>4819</td>\n",
       "      <td>0.811333</td>\n",
       "      <td>Val</td>\n",
       "    </tr>\n",
       "    <tr>\n",
       "      <th>8</th>\n",
       "      <td>4819</td>\n",
       "      <td>0.815714</td>\n",
       "      <td>Test</td>\n",
       "    </tr>\n",
       "    <tr>\n",
       "      <th>9</th>\n",
       "      <td>4738</td>\n",
       "      <td>0.869333</td>\n",
       "      <td>Train</td>\n",
       "    </tr>\n",
       "    <tr>\n",
       "      <th>10</th>\n",
       "      <td>4738</td>\n",
       "      <td>0.812667</td>\n",
       "      <td>Val</td>\n",
       "    </tr>\n",
       "    <tr>\n",
       "      <th>11</th>\n",
       "      <td>4738</td>\n",
       "      <td>0.816000</td>\n",
       "      <td>Test</td>\n",
       "    </tr>\n",
       "    <tr>\n",
       "      <th>12</th>\n",
       "      <td>4609</td>\n",
       "      <td>0.868481</td>\n",
       "      <td>Train</td>\n",
       "    </tr>\n",
       "    <tr>\n",
       "      <th>13</th>\n",
       "      <td>4609</td>\n",
       "      <td>0.814000</td>\n",
       "      <td>Val</td>\n",
       "    </tr>\n",
       "    <tr>\n",
       "      <th>14</th>\n",
       "      <td>4609</td>\n",
       "      <td>0.815714</td>\n",
       "      <td>Test</td>\n",
       "    </tr>\n",
       "    <tr>\n",
       "      <th>15</th>\n",
       "      <td>4567</td>\n",
       "      <td>0.868074</td>\n",
       "      <td>Train</td>\n",
       "    </tr>\n",
       "    <tr>\n",
       "      <th>16</th>\n",
       "      <td>4567</td>\n",
       "      <td>0.815000</td>\n",
       "      <td>Val</td>\n",
       "    </tr>\n",
       "    <tr>\n",
       "      <th>17</th>\n",
       "      <td>4567</td>\n",
       "      <td>0.815714</td>\n",
       "      <td>Test</td>\n",
       "    </tr>\n",
       "    <tr>\n",
       "      <th>18</th>\n",
       "      <td>4130</td>\n",
       "      <td>0.866889</td>\n",
       "      <td>Train</td>\n",
       "    </tr>\n",
       "    <tr>\n",
       "      <th>19</th>\n",
       "      <td>4130</td>\n",
       "      <td>0.816000</td>\n",
       "      <td>Val</td>\n",
       "    </tr>\n",
       "    <tr>\n",
       "      <th>20</th>\n",
       "      <td>4130</td>\n",
       "      <td>0.816286</td>\n",
       "      <td>Test</td>\n",
       "    </tr>\n",
       "    <tr>\n",
       "      <th>21</th>\n",
       "      <td>3883</td>\n",
       "      <td>0.864074</td>\n",
       "      <td>Train</td>\n",
       "    </tr>\n",
       "    <tr>\n",
       "      <th>22</th>\n",
       "      <td>3883</td>\n",
       "      <td>0.817000</td>\n",
       "      <td>Val</td>\n",
       "    </tr>\n",
       "    <tr>\n",
       "      <th>23</th>\n",
       "      <td>3883</td>\n",
       "      <td>0.818143</td>\n",
       "      <td>Test</td>\n",
       "    </tr>\n",
       "    <tr>\n",
       "      <th>24</th>\n",
       "      <td>3715</td>\n",
       "      <td>0.861148</td>\n",
       "      <td>Train</td>\n",
       "    </tr>\n",
       "    <tr>\n",
       "      <th>25</th>\n",
       "      <td>3715</td>\n",
       "      <td>0.818000</td>\n",
       "      <td>Val</td>\n",
       "    </tr>\n",
       "    <tr>\n",
       "      <th>26</th>\n",
       "      <td>3715</td>\n",
       "      <td>0.817000</td>\n",
       "      <td>Test</td>\n",
       "    </tr>\n",
       "    <tr>\n",
       "      <th>27</th>\n",
       "      <td>3609</td>\n",
       "      <td>0.860741</td>\n",
       "      <td>Train</td>\n",
       "    </tr>\n",
       "    <tr>\n",
       "      <th>28</th>\n",
       "      <td>3609</td>\n",
       "      <td>0.818667</td>\n",
       "      <td>Val</td>\n",
       "    </tr>\n",
       "    <tr>\n",
       "      <th>29</th>\n",
       "      <td>3609</td>\n",
       "      <td>0.817143</td>\n",
       "      <td>Test</td>\n",
       "    </tr>\n",
       "    <tr>\n",
       "      <th>...</th>\n",
       "      <td>...</td>\n",
       "      <td>...</td>\n",
       "      <td>...</td>\n",
       "    </tr>\n",
       "    <tr>\n",
       "      <th>135</th>\n",
       "      <td>2436</td>\n",
       "      <td>0.850593</td>\n",
       "      <td>Train</td>\n",
       "    </tr>\n",
       "    <tr>\n",
       "      <th>136</th>\n",
       "      <td>2436</td>\n",
       "      <td>0.833000</td>\n",
       "      <td>Val</td>\n",
       "    </tr>\n",
       "    <tr>\n",
       "      <th>137</th>\n",
       "      <td>2436</td>\n",
       "      <td>0.824571</td>\n",
       "      <td>Test</td>\n",
       "    </tr>\n",
       "    <tr>\n",
       "      <th>138</th>\n",
       "      <td>2434</td>\n",
       "      <td>0.850556</td>\n",
       "      <td>Train</td>\n",
       "    </tr>\n",
       "    <tr>\n",
       "      <th>139</th>\n",
       "      <td>2434</td>\n",
       "      <td>0.833333</td>\n",
       "      <td>Val</td>\n",
       "    </tr>\n",
       "    <tr>\n",
       "      <th>140</th>\n",
       "      <td>2434</td>\n",
       "      <td>0.824571</td>\n",
       "      <td>Test</td>\n",
       "    </tr>\n",
       "    <tr>\n",
       "      <th>141</th>\n",
       "      <td>2428</td>\n",
       "      <td>0.850556</td>\n",
       "      <td>Train</td>\n",
       "    </tr>\n",
       "    <tr>\n",
       "      <th>142</th>\n",
       "      <td>2428</td>\n",
       "      <td>0.833667</td>\n",
       "      <td>Val</td>\n",
       "    </tr>\n",
       "    <tr>\n",
       "      <th>143</th>\n",
       "      <td>2428</td>\n",
       "      <td>0.824429</td>\n",
       "      <td>Test</td>\n",
       "    </tr>\n",
       "    <tr>\n",
       "      <th>144</th>\n",
       "      <td>2365</td>\n",
       "      <td>0.849778</td>\n",
       "      <td>Train</td>\n",
       "    </tr>\n",
       "    <tr>\n",
       "      <th>145</th>\n",
       "      <td>2365</td>\n",
       "      <td>0.834000</td>\n",
       "      <td>Val</td>\n",
       "    </tr>\n",
       "    <tr>\n",
       "      <th>146</th>\n",
       "      <td>2365</td>\n",
       "      <td>0.824286</td>\n",
       "      <td>Test</td>\n",
       "    </tr>\n",
       "    <tr>\n",
       "      <th>147</th>\n",
       "      <td>2353</td>\n",
       "      <td>0.849667</td>\n",
       "      <td>Train</td>\n",
       "    </tr>\n",
       "    <tr>\n",
       "      <th>148</th>\n",
       "      <td>2353</td>\n",
       "      <td>0.834333</td>\n",
       "      <td>Val</td>\n",
       "    </tr>\n",
       "    <tr>\n",
       "      <th>149</th>\n",
       "      <td>2353</td>\n",
       "      <td>0.824429</td>\n",
       "      <td>Test</td>\n",
       "    </tr>\n",
       "    <tr>\n",
       "      <th>150</th>\n",
       "      <td>2344</td>\n",
       "      <td>0.849630</td>\n",
       "      <td>Train</td>\n",
       "    </tr>\n",
       "    <tr>\n",
       "      <th>151</th>\n",
       "      <td>2344</td>\n",
       "      <td>0.834667</td>\n",
       "      <td>Val</td>\n",
       "    </tr>\n",
       "    <tr>\n",
       "      <th>152</th>\n",
       "      <td>2344</td>\n",
       "      <td>0.824571</td>\n",
       "      <td>Test</td>\n",
       "    </tr>\n",
       "    <tr>\n",
       "      <th>153</th>\n",
       "      <td>2342</td>\n",
       "      <td>0.849630</td>\n",
       "      <td>Train</td>\n",
       "    </tr>\n",
       "    <tr>\n",
       "      <th>154</th>\n",
       "      <td>2342</td>\n",
       "      <td>0.834667</td>\n",
       "      <td>Val</td>\n",
       "    </tr>\n",
       "    <tr>\n",
       "      <th>155</th>\n",
       "      <td>2342</td>\n",
       "      <td>0.824714</td>\n",
       "      <td>Test</td>\n",
       "    </tr>\n",
       "    <tr>\n",
       "      <th>156</th>\n",
       "      <td>2312</td>\n",
       "      <td>0.849259</td>\n",
       "      <td>Train</td>\n",
       "    </tr>\n",
       "    <tr>\n",
       "      <th>157</th>\n",
       "      <td>2312</td>\n",
       "      <td>0.835000</td>\n",
       "      <td>Val</td>\n",
       "    </tr>\n",
       "    <tr>\n",
       "      <th>158</th>\n",
       "      <td>2312</td>\n",
       "      <td>0.825000</td>\n",
       "      <td>Test</td>\n",
       "    </tr>\n",
       "    <tr>\n",
       "      <th>159</th>\n",
       "      <td>2308</td>\n",
       "      <td>0.849259</td>\n",
       "      <td>Train</td>\n",
       "    </tr>\n",
       "    <tr>\n",
       "      <th>160</th>\n",
       "      <td>2308</td>\n",
       "      <td>0.835333</td>\n",
       "      <td>Val</td>\n",
       "    </tr>\n",
       "    <tr>\n",
       "      <th>161</th>\n",
       "      <td>2308</td>\n",
       "      <td>0.825000</td>\n",
       "      <td>Test</td>\n",
       "    </tr>\n",
       "    <tr>\n",
       "      <th>162</th>\n",
       "      <td>2306</td>\n",
       "      <td>0.849222</td>\n",
       "      <td>Train</td>\n",
       "    </tr>\n",
       "    <tr>\n",
       "      <th>163</th>\n",
       "      <td>2306</td>\n",
       "      <td>0.835667</td>\n",
       "      <td>Val</td>\n",
       "    </tr>\n",
       "    <tr>\n",
       "      <th>164</th>\n",
       "      <td>2306</td>\n",
       "      <td>0.825000</td>\n",
       "      <td>Test</td>\n",
       "    </tr>\n",
       "  </tbody>\n",
       "</table>\n",
       "<p>165 rows × 3 columns</p>\n",
       "</div>"
      ],
      "text/plain": [
       "     Number of Nodes  Accuracy   Type\n",
       "0               7898  0.889333  Train\n",
       "1               7898  0.801000    Val\n",
       "2               7898  0.805571   Test\n",
       "3               5670  0.875111  Train\n",
       "4               5670  0.809333    Val\n",
       "5               5670  0.811857   Test\n",
       "6               4819  0.869963  Train\n",
       "7               4819  0.811333    Val\n",
       "8               4819  0.815714   Test\n",
       "9               4738  0.869333  Train\n",
       "10              4738  0.812667    Val\n",
       "11              4738  0.816000   Test\n",
       "12              4609  0.868481  Train\n",
       "13              4609  0.814000    Val\n",
       "14              4609  0.815714   Test\n",
       "15              4567  0.868074  Train\n",
       "16              4567  0.815000    Val\n",
       "17              4567  0.815714   Test\n",
       "18              4130  0.866889  Train\n",
       "19              4130  0.816000    Val\n",
       "20              4130  0.816286   Test\n",
       "21              3883  0.864074  Train\n",
       "22              3883  0.817000    Val\n",
       "23              3883  0.818143   Test\n",
       "24              3715  0.861148  Train\n",
       "25              3715  0.818000    Val\n",
       "26              3715  0.817000   Test\n",
       "27              3609  0.860741  Train\n",
       "28              3609  0.818667    Val\n",
       "29              3609  0.817143   Test\n",
       "..               ...       ...    ...\n",
       "135             2436  0.850593  Train\n",
       "136             2436  0.833000    Val\n",
       "137             2436  0.824571   Test\n",
       "138             2434  0.850556  Train\n",
       "139             2434  0.833333    Val\n",
       "140             2434  0.824571   Test\n",
       "141             2428  0.850556  Train\n",
       "142             2428  0.833667    Val\n",
       "143             2428  0.824429   Test\n",
       "144             2365  0.849778  Train\n",
       "145             2365  0.834000    Val\n",
       "146             2365  0.824286   Test\n",
       "147             2353  0.849667  Train\n",
       "148             2353  0.834333    Val\n",
       "149             2353  0.824429   Test\n",
       "150             2344  0.849630  Train\n",
       "151             2344  0.834667    Val\n",
       "152             2344  0.824571   Test\n",
       "153             2342  0.849630  Train\n",
       "154             2342  0.834667    Val\n",
       "155             2342  0.824714   Test\n",
       "156             2312  0.849259  Train\n",
       "157             2312  0.835000    Val\n",
       "158             2312  0.825000   Test\n",
       "159             2308  0.849259  Train\n",
       "160             2308  0.835333    Val\n",
       "161             2308  0.825000   Test\n",
       "162             2306  0.849222  Train\n",
       "163             2306  0.835667    Val\n",
       "164             2306  0.825000   Test\n",
       "\n",
       "[165 rows x 3 columns]"
      ]
     },
     "execution_count": 158,
     "metadata": {},
     "output_type": "execute_result"
    }
   ],
   "source": [
    "mdat"
   ]
  },
  {
   "cell_type": "code",
   "execution_count": 117,
   "metadata": {
    "ExecuteTime": {
     "end_time": "2018-04-10T11:52:35.247632Z",
     "start_time": "2018-04-10T11:52:31.358082Z"
    }
   },
   "outputs": [],
   "source": [
    "prune_decision_tree_classifier(myclassifier,valid_X,valid_Y)"
   ]
  },
  {
   "cell_type": "code",
   "execution_count": 118,
   "metadata": {
    "ExecuteTime": {
     "end_time": "2018-04-10T11:52:35.295311Z",
     "start_time": "2018-04-10T11:52:35.263098Z"
    }
   },
   "outputs": [
    {
     "name": "stdout",
     "output_type": "stream",
     "text": [
      "No. of nodes is  2306  Val Acc is  0.8356666666666667  and test Acc is  0.825\n"
     ]
    }
   ],
   "source": [
    "valid_pred = myclassifier.predict(valid_X)\n",
    "val_acc = accuracy_score(valid_Y,valid_pred)\n",
    "test_pred = myclassifier.predict(test_X)\n",
    "test_acc = accuracy_score(test_Y,test_pred)\n",
    "print(\"No. of nodes is \",count(myclassifier.root),\" Val Acc is \",val_acc,\" and test Acc is \",test_acc)"
   ]
  },
  {
   "cell_type": "markdown",
   "metadata": {},
   "source": [
    "## Note : See why changing increase threshold to very low actually decreases validation accuracy"
   ]
  },
  {
   "cell_type": "markdown",
   "metadata": {},
   "source": [
    "# Part 3"
   ]
  },
  {
   "cell_type": "code",
   "execution_count": 160,
   "metadata": {
    "ExecuteTime": {
     "end_time": "2018-04-11T04:30:41.963083Z",
     "start_time": "2018-04-11T04:30:40.648747Z"
    }
   },
   "outputs": [],
   "source": [
    "## The possible attributes in the data with the prediction at index 0. Smaller names for brevity.\n",
    "attributes = [\"rich\",\"age\",\"wc\",\"fnlwgt\",\"edu\",\"edun\",\"mar\",\"occ\",\"rel\",\"race\",\"sex\",\"capg\",\"canpl\",\"hpw\",\"nc\"]\n",
    "\n",
    "## Get the encoding of the csv file by replacing each categorical attribute value by its index.\n",
    "wc_l = \"Private, Self-emp-not-inc, Self-emp-inc, Federal-gov, Local-gov, State-gov, Without-pay, Never-worked\".split(\", \")\n",
    "edu_l = \"Bachelors, Some-college, 11th, HS-grad, Prof-school, Assoc-acdm, Assoc-voc, 9th, 7th-8th, 12th, Masters, 1st-4th, 10th, Doctorate, 5th-6th, Preschool\".split(\", \")\n",
    "mar_l = \"Married-civ-spouse, Divorced, Never-married, Separated, Widowed, Married-spouse-absent, Married-AF-spouse\".split(\", \")\n",
    "occ_l = \"Tech-support, Craft-repair, Other-service, Sales, Exec-managerial, Prof-specialty, Handlers-cleaners, Machine-op-inspct, Adm-clerical, Farming-fishing, Transport-moving, Priv-house-serv, Protective-serv, Armed-Forces\".split(\", \")\n",
    "rel_l = \"Wife, Own-child, Husband, Not-in-family, Other-relative, Unmarried\".split(\", \")\n",
    "race_l = \"White, Asian-Pac-Islander, Amer-Indian-Eskimo, Other, Black\".split(\", \")\n",
    "sex_l = \"Female, Male\".split(\", \")\n",
    "nc_l = \"United-States, Cambodia, England, Puerto-Rico, Canada, Germany, Outlying-US(Guam-USVI-etc), India, Japan, Greece, South, China, Cuba, Iran, Honduras, Philippines, Italy, Poland, Jamaica, Vietnam, Mexico, Portugal, Ireland, France, Dominican-Republic, Laos, Ecuador, Taiwan, Haiti, Columbia, Hungary, Guatemala, Nicaragua, Scotland, Thailand, Yugoslavia, El-Salvador, Trinadad&Tobago, Peru, Hong, Holand-Netherlands\".split(\", \")\n",
    "encode = {\n",
    "    \"rich\"   : {\"0\":0,\"1\":1},\n",
    "    \"wc\"     : {wc_l[i]:i for i in range(len(wc_l))},\n",
    "    \"edu\"    : {edu_l[i]:i for i in range(len(edu_l))},\n",
    "    \"mar\"    : {mar_l[i]:i for i in range(len(mar_l))},\n",
    "    \"occ\"    : {occ_l[i]:i for i in range(len(occ_l))},\n",
    "    \"rel\"    : {rel_l[i]:i for i in range(len(rel_l))},\n",
    "    \"race\"   : {race_l[i]:i for i in range(len(race_l))},\n",
    "    \"sex\"    : {sex_l[i]:i for i in range(len(sex_l))},\n",
    "    \"nc\"     : {nc_l[i]:i for i in range(len(nc_l))},\n",
    "    }\n",
    "\n",
    "def medians(file):\n",
    "    \"\"\"\n",
    "    Given a csv file, find the medians of the categorical attributes for the whole data.\n",
    "    params(1): \n",
    "        file : string : the name of the file\n",
    "    outputs(6):\n",
    "        median values for the categorical columns\n",
    "    \"\"\"\n",
    "    fin = open(file,\"r\")\n",
    "    reader = csv.reader(fin)\n",
    "    age, fnlwgt, edun, capg, capl, hpw = ([] for i in range(6))\n",
    "    total = 0\n",
    "    for row in reader:\n",
    "        total+=1\n",
    "        if(total==1):\n",
    "            continue\n",
    "        l = [x.lstrip().rstrip() for x in row]\n",
    "        age.append(int(l[0]));\n",
    "        fnlwgt.append(int(l[2]));\n",
    "        edun.append(int(l[4]));\n",
    "        capg.append(int(l[10]));\n",
    "        capl.append(int(l[11]));\n",
    "        hpw.append(int(l[12]));\n",
    "    fin.close()\n",
    "    return(statistics.median(age),statistics.median(fnlwgt),statistics.median(edun),statistics.median(capg),statistics.median(capl),statistics.median(hpw))\n",
    "\n",
    "def preprocess(file):\n",
    "    \"\"\"\n",
    "    Given a file, read its data by encoding categorical attributes and binarising continuos attributes based on median.\n",
    "    params(1): \n",
    "        file : string : the name of the file\n",
    "    outputs(6):\n",
    "        2D numpy array with the data\n",
    "    \"\"\"\n",
    "    # Calculate the medians\n",
    "    agem,fnlwgtm,edunm,capgm,caplm,hpwm = medians(file)\n",
    "    fin = open(file,\"r\")\n",
    "    reader = csv.reader(fin)\n",
    "    data = []\n",
    "    total = 0\n",
    "    for row in reader:\n",
    "        total+=1\n",
    "        # Skip line 0 in the file\n",
    "        if(total==1):\n",
    "            continue\n",
    "        l = [x.lstrip().rstrip() for x in row]\n",
    "        t = [0 for i in range(15)]\n",
    "        \n",
    "        # Encode the categorical attributes\n",
    "        t[0] = encode[\"rich\"][l[-1]]; t[2] = encode[\"wc\"][l[1]]; t[4] = encode[\"edu\"][l[3]]\n",
    "        t[6] = encode[\"mar\"][l[5]]; t[7] = encode[\"occ\"][l[6]]; t[8] = encode[\"rel\"][l[7]]\n",
    "        t[9] = encode[\"race\"][l[8]]; t[10] = encode[\"sex\"][l[9]]; t[14] = encode[\"nc\"][l[13]]\n",
    "        \n",
    "        # Binarize the numerical attributes based on median.\n",
    "        # Modify this section to read the file in part c where you split the continuos attributes baed on dynamic median values.\n",
    "        t[1] = float(l[0]); t[3] = float(l[2]); t[5] = float(l[4]);\n",
    "        t[11] = float(l[10]); t[12] = float(l[11]); t[13] = float(l[12]);\n",
    "        \n",
    "        # Convert some of the booleans to ints\n",
    "        data.append([int(x) for x in t])\n",
    "    \n",
    "    return np.array(data,dtype=np.int64)\n",
    "\n",
    "## Read the data\n",
    "train_data_3 = preprocess(\"dtree_data/train.csv\")\n",
    "valid_data_3 = preprocess(\"dtree_data/valid.csv\")\n",
    "test_data_3 = preprocess(\"dtree_data/test.csv\")\n",
    "\n",
    "numerical_indices = [0,2,4,10,11,12]\n",
    "train_X_3 = train_data_3[:,1:]\n",
    "train_Y_3 = train_data_3[:,0]\n",
    "valid_X_3 = valid_data_3[:,1:]\n",
    "valid_Y_3 = valid_data_3[:,0]\n",
    "test_X_3 = test_data_3[:,1:]\n",
    "test_Y_3 = test_data_3[:,0]"
   ]
  },
  {
   "cell_type": "code",
   "execution_count": 161,
   "metadata": {
    "ExecuteTime": {
     "end_time": "2018-04-11T04:30:43.380081Z",
     "start_time": "2018-04-11T04:30:41.983102Z"
    }
   },
   "outputs": [],
   "source": [
    "class DecisionTreeNode_3:\n",
    "    def __init__(self):\n",
    "        self.am_leaf = False\n",
    "        self.children = {} # feature_value:Node\n",
    "        self.feature_index = -1\n",
    "        self.Y_val = -1\n",
    "        self.Y_confidence = -1\n",
    "        self.is_split_on_numeric = False\n",
    "        self.median = -1\n",
    "    def fit(self,X,Y):\n",
    "        all_same_class = np.all(Y==Y[0])\n",
    "        if all_same_class:\n",
    "            self.am_leaf = True\n",
    "            self.Y_val = Y[0]\n",
    "            self.Y_confidence = 1\n",
    "        else:\n",
    "            self.am_leaf = False\n",
    "            Y_vals , Y_counts = np.unique(Y,return_counts=True)\n",
    "            if Y_counts[0] >= Y_counts[1]:\n",
    "                self.Y_val = Y_vals[0]\n",
    "                self.Y_confidence = Y_counts[0] / (Y_counts[0] + Y_counts[1])\n",
    "            else:\n",
    "                self.Y_val = Y_vals[1]\n",
    "                self.Y_confidence = Y_counts[1] / (Y_counts[0] + Y_counts[1])\n",
    "            info_gain_list = []\n",
    "            for ind in range(0,X.shape[-1]):\n",
    "                if ind in numerical_indices:\n",
    "                    indicator = (X[:,ind] >= np.median(X[:,ind])).astype(int)\n",
    "                    info_gain_list.append(self.info_gain(indicator,Y))\n",
    "                else:\n",
    "                    info_gain_list.append(self.info_gain(X[:,ind],Y) )\n",
    "            max_info_gain = max(info_gain_list)\n",
    "            if max_info_gain <= 1e-8:\n",
    "                self.am_leaf = True\n",
    "                return\n",
    "            max_index = info_gain_list.index(max_info_gain)\n",
    "            X_column = X[:,max_index]\n",
    "            self.feature_index = max_index\n",
    "            if max_index in numerical_indices:\n",
    "                self.is_split_on_numeric = True\n",
    "                med = np.median(X[:,max_index])\n",
    "                self.median = med\n",
    "                indicator_high = X[:,max_index] >= med\n",
    "                indicator_low = X[:,max_index] < med\n",
    "                low_x ,low_y = X[indicator_low], Y[indicator_low]\n",
    "                high_x ,high_y = X[indicator_high], Y[indicator_high]\n",
    "                child_low =  DecisionTreeNode_3()\n",
    "                child_high =  DecisionTreeNode_3()\n",
    "                child_low.fit(low_x ,low_y)\n",
    "                child_high.fit(high_x ,high_y)\n",
    "                self.children[\"higher\"] = child_high\n",
    "                self.children[\"lower\"] = child_low\n",
    "            else:\n",
    "                X_unique, X_counts = np.unique(X_column,return_counts=True)\n",
    "                for X_val, X_count in zip(X_unique,X_counts):\n",
    "                    subset_boolean = X_column==X_val\n",
    "                    small_Y = Y[subset_boolean]\n",
    "                    small_X = X[subset_boolean]\n",
    "                    child = DecisionTreeNode_3()\n",
    "                    self.children[X_val] = child\n",
    "                    child.fit(small_X,small_Y)             \n",
    "                \n",
    "    def predict_single(self,x):\n",
    "        if self.am_leaf:\n",
    "            return self.Y_val\n",
    "        else:\n",
    "            if self.is_split_on_numeric:\n",
    "                if x[self.feature_index] >= self.median:\n",
    "                    child_node = self.children[\"higher\"]\n",
    "                    return child_node.predict_single(x)    \n",
    "                else: \n",
    "                    child_node = self.children[\"lower\"]\n",
    "                    return child_node.predict_single(x)\n",
    "            else:\n",
    "                try:\n",
    "                    child_node = self.children[x[self.feature_index]]\n",
    "                    return child_node.predict_single(x)\n",
    "                except KeyError:\n",
    "                    zero_prob = 0\n",
    "                    one_prob = 0\n",
    "                    for _,node in self.children.items():\n",
    "                        if node.predict_single(x) == 0:\n",
    "                            zero_prob += node.Y_confidence\n",
    "                        else:\n",
    "                            one_prob += node.Y_confidence\n",
    "                    if zero_prob >= one_prob:\n",
    "                        return 0\n",
    "                    else:\n",
    "                        return 1\n",
    "    def info_gain(self,X_column,Y):\n",
    "        _ , Y_counts = np.unique(Y,return_counts=True)\n",
    "        num_examples = Y.shape[0]\n",
    "        initial_entropy = self.entropy(Y_counts)\n",
    "        X_unique, X_counts = np.unique(X_column,return_counts=True)\n",
    "        new_entropy = 0\n",
    "        for X_val, X_count in zip(X_unique,X_counts):\n",
    "            subset_boolean = X_column==X_val\n",
    "            small_Y = Y[subset_boolean]\n",
    "            _ , small_counts = np.unique(small_Y,return_counts=True)\n",
    "            new_entropy += X_count*self.entropy(small_counts)/num_examples\n",
    "        info_gain = initial_entropy - new_entropy\n",
    "        return info_gain\n",
    "    def entropy (self,arr):\n",
    "        n_elements = np.sum(arr)\n",
    "        ent = 0\n",
    "        for el in arr:\n",
    "            ent += -(el/n_elements)*math.log(el/n_elements)\n",
    "        return ent\n",
    "    def partial_fit_to_depth(self,X,Y,depth_target,depth_current):\n",
    "        all_same_class = np.all(Y==Y[0])\n",
    "        if all_same_class:\n",
    "            self.am_leaf = True\n",
    "            self.Y_val = Y[0]\n",
    "            self.Y_confidence = 1\n",
    "        else:\n",
    "            self.am_leaf = False\n",
    "            Y_vals , Y_counts = np.unique(Y,return_counts=True)\n",
    "            if Y_counts[0] >= Y_counts[1]:\n",
    "                self.Y_val = Y_vals[0]\n",
    "                self.Y_confidence = Y_counts[0] / (Y_counts[0] + Y_counts[1])\n",
    "            else:\n",
    "                self.Y_val = Y_vals[1]\n",
    "                self.Y_confidence = Y_counts[1] / (Y_counts[0] + Y_counts[1])\n",
    "            if depth_target == depth_current:\n",
    "                return\n",
    "            \n",
    "            info_gain_list = []\n",
    "            for ind in range(0,X.shape[-1]):\n",
    "                if ind in numerical_indices:\n",
    "                    indicator = X[:,ind] >= np.median(X[:,ind])\n",
    "                    indicator_int = indicator.astype(int)\n",
    "                    info_gain_list.append(self.info_gain(indicator_int,Y))\n",
    "                else:\n",
    "                    info_gain_list.append(self.info_gain(X[:,ind],Y) )\n",
    "            max_info_gain = max(info_gain_list)\n",
    "            if max_info_gain <= 1e-8:\n",
    "                self.am_leaf = True\n",
    "                return\n",
    "            max_index = info_gain_list.index(max_info_gain)\n",
    "            X_column = X[:,max_index]\n",
    "            self.feature_index = max_index\n",
    "            if max_index in numerical_indices:\n",
    "                self.is_split_on_numeric = True\n",
    "                med = np.median(X[:,max_index])\n",
    "                self.median = med\n",
    "                indicator_high = X[:,max_index] >= med\n",
    "                indicator_low = X[:,max_index] < med\n",
    "                low_x ,low_y = X[indicator_low], Y[indicator_low]\n",
    "                high_x ,high_y = X[indicator_high], Y[indicator_high]\n",
    "                child_low =  DecisionTreeNode_3()\n",
    "                child_high =  DecisionTreeNode_3()\n",
    "                child_low.partial_fit_to_depth(low_x ,low_y,depth_target,depth_current+1)\n",
    "                child_high.partial_fit_to_depth(high_x ,high_y,depth_target,depth_current+1)\n",
    "                self.children[\"higher\"] = child_high\n",
    "                self.children[\"lower\"] = child_low\n",
    "            else:\n",
    "                X_unique, X_counts = np.unique(X_column,return_counts=True)\n",
    "                for X_val, X_count in zip(X_unique,X_counts):\n",
    "                    subset_boolean = X_column==X_val\n",
    "                    small_Y = Y[subset_boolean]\n",
    "                    small_X = X[subset_boolean]\n",
    "                    child = DecisionTreeNode_3()\n",
    "                    self.children[X_val] = child\n",
    "                    child.partial_fit_to_depth(small_X,small_Y,depth_target,depth_current+1)     \n",
    "    def partial_predict_to_depth(self,x):\n",
    "        if self.am_leaf or (len(self.children) == 0):\n",
    "            return self.Y_val\n",
    "        else:\n",
    "            if self.is_split_on_numeric:\n",
    "                if x[self.feature_index] >= self.median:\n",
    "                    child_node = self.children[\"higher\"]\n",
    "                    return child_node.predict_single(x)    \n",
    "                else: \n",
    "                    child_node = self.children[\"lower\"]\n",
    "                    return child_node.predict_single(x)\n",
    "            else:\n",
    "                try:\n",
    "                    child_node = self.children[x[self.feature_index]]\n",
    "                    return child_node.predict_single(x)\n",
    "                except KeyError:\n",
    "                    zero_prob = 0\n",
    "                    one_prob = 0\n",
    "                    for _,node in self.children.items():\n",
    "                        if node.predict_single(x) == 0:\n",
    "                            zero_prob += node.Y_confidence\n",
    "                        else:\n",
    "                            one_prob += node.Y_confidence\n",
    "                    if zero_prob >= one_prob:\n",
    "                        return 0\n",
    "                    else:\n",
    "                        return 1\n",
    "\n",
    "class DecisionTreeClassifier_3:\n",
    "    \"\"\"\n",
    "    Assumes X has discrete features represented by arbitrary integers along\n",
    "    with continuous features and Y is a boolean target variable\n",
    "    represented as an array of 0's and 1's\n",
    "    \"\"\"\n",
    "    def __init__(self):\n",
    "        self.root = DecisionTreeNode_3()\n",
    "    def fit(self,X,Y):\n",
    "        self.root.fit(X,Y)\n",
    "    def predict(self,X):\n",
    "        pred = []\n",
    "        for example in X:\n",
    "            pred.append(self.root.predict_single(example))\n",
    "        return np.asarray(pred)\n",
    "    def partial_fit_to_depth(self,X,Y,depth):\n",
    "        self.root.partial_fit_to_depth(X,Y,depth,1)\n",
    "    def partial_predict_to_depth(self,X):\n",
    "        pred = []\n",
    "        for example in X:\n",
    "            pred.append(self.root.partial_predict_to_depth(example))\n",
    "        return np.asarray(pred)"
   ]
  },
  {
   "cell_type": "code",
   "execution_count": 167,
   "metadata": {
    "ExecuteTime": {
     "end_time": "2018-04-11T04:33:53.905833Z",
     "start_time": "2018-04-11T04:33:42.792001Z"
    }
   },
   "outputs": [],
   "source": [
    "myclassifier = DecisionTreeClassifier_3()\n",
    "myclassifier.fit(train_X_3,train_Y_3)"
   ]
  },
  {
   "cell_type": "code",
   "execution_count": 169,
   "metadata": {
    "ExecuteTime": {
     "end_time": "2018-04-11T04:34:12.587247Z",
     "start_time": "2018-04-11T04:34:12.575469Z"
    }
   },
   "outputs": [
    {
     "data": {
      "text/plain": [
       "7"
      ]
     },
     "execution_count": 169,
     "metadata": {},
     "output_type": "execute_result"
    }
   ],
   "source": [
    "myclassifier.root.feature_index"
   ]
  },
  {
   "cell_type": "code",
   "execution_count": 177,
   "metadata": {
    "ExecuteTime": {
     "end_time": "2018-04-11T04:47:10.725124Z",
     "start_time": "2018-04-11T04:47:10.646931Z"
    }
   },
   "outputs": [],
   "source": [
    "def see_feat(node,feat_index):\n",
    "    if len(node.children) == 0:\n",
    "        return (feat_index,[],0)\n",
    "    max_splits_on_feat = -100\n",
    "    max_rec = []\n",
    "    for hog,child in node.children.items():\n",
    "        _, rec, splits = see_feat(child,feat_index)\n",
    "        if splits > max_splits_on_feat:\n",
    "            max_rec = rec\n",
    "            max_splits_on_feat = splits\n",
    "    if node.feature_index == feat_index:\n",
    "        max_rec.append(node.median)\n",
    "        max_splits_on_feat += 1\n",
    "    return (feat_index,max_rec,max_splits_on_feat)\n",
    "\n",
    "\n",
    "l = []\n",
    "for num_ind in numerical_indices:\n",
    "    l.append(see_feat(myclassifier.root,num_ind))"
   ]
  },
  {
   "cell_type": "code",
   "execution_count": 178,
   "metadata": {
    "ExecuteTime": {
     "end_time": "2018-04-11T04:47:12.208115Z",
     "start_time": "2018-04-11T04:47:12.191223Z"
    }
   },
   "outputs": [
    {
     "data": {
      "text/plain": [
       "[(0, [62.0, 65.0, 60.0, 57.0, 54.0, 51.0, 47.0, 39.0], 8),\n",
       " (2, [129172.0, 136824.0, 142914.0, 159244.0, 127768.0, 188965.5], 6),\n",
       " (4, [], 0),\n",
       " (10, [20051.0, 7688.0], 2),\n",
       " (11, [1485.0], 1),\n",
       " (12, [70.0, 65.0, 57.5, 50.0], 4)]"
      ]
     },
     "execution_count": 178,
     "metadata": {},
     "output_type": "execute_result"
    }
   ],
   "source": [
    "l"
   ]
  },
  {
   "cell_type": "code",
   "execution_count": 163,
   "metadata": {
    "ExecuteTime": {
     "end_time": "2018-04-11T04:30:55.223517Z",
     "start_time": "2018-04-11T04:30:55.016215Z"
    }
   },
   "outputs": [
    {
     "name": "stdout",
     "output_type": "stream",
     "text": [
      "No. of nodes is  15359  Val Acc is  0.79  and test Acc is  0.78\n"
     ]
    }
   ],
   "source": [
    "valid_pred = myclassifier.partial_predict_to_depth(valid_X_3)\n",
    "val_acc = accuracy_score(valid_Y_3,valid_pred)\n",
    "test_pred = myclassifier.partial_predict_to_depth(test_X_3)\n",
    "test_acc = accuracy_score(test_Y_3,test_pred)\n",
    "print(\"No. of nodes is \",count(myclassifier.root),\" Val Acc is \",val_acc,\" and test Acc is \",test_acc)"
   ]
  },
  {
   "cell_type": "code",
   "execution_count": 164,
   "metadata": {
    "ExecuteTime": {
     "end_time": "2018-04-11T04:33:19.092190Z",
     "start_time": "2018-04-11T04:31:18.626822Z"
    }
   },
   "outputs": [
    {
     "name": "stdout",
     "output_type": "stream",
     "text": [
      "Depth is  1  Count is  1  val Accuracy is  0.7453333333333333\n",
      "Depth is  2  Count is  7  val Accuracy is  0.7453333333333333\n",
      "Depth is  3  Count is  92  val Accuracy is  0.7453333333333333\n",
      "Depth is  4  Count is  697  val Accuracy is  0.746\n",
      "Depth is  5  Count is  2081  val Accuracy is  0.749\n",
      "Depth is  6  Count is  3408  val Accuracy is  0.752\n",
      "Depth is  7  Count is  4726  val Accuracy is  0.751\n",
      "Depth is  8  Count is  6085  val Accuracy is  0.756\n",
      "Depth is  9  Count is  7438  val Accuracy is  0.7616666666666667\n",
      "Depth is  10  Count is  8820  val Accuracy is  0.7626666666666667\n",
      "Depth is  11  Count is  10209  val Accuracy is  0.7633333333333333\n",
      "Depth is  12  Count is  11596  val Accuracy is  0.7566666666666667\n",
      "Depth is  13  Count is  12859  val Accuracy is  0.7566666666666667\n",
      "Depth is  14  Count is  13839  val Accuracy is  0.7566666666666667\n",
      "Depth is  15  Count is  14539  val Accuracy is  0.7566666666666667\n",
      "Depth is  16  Count is  14981  val Accuracy is  0.7566666666666667\n",
      "Depth is  17  Count is  15235  val Accuracy is  0.7566666666666667\n",
      "Depth is  18  Count is  15331  val Accuracy is  0.7566666666666667\n",
      "Depth is  19  Count is  15359  val Accuracy is  0.7566666666666667\n"
     ]
    }
   ],
   "source": [
    "l = []\n",
    "for dep in range(1,20):\n",
    "    myclassifier = DecisionTreeClassifier_3()\n",
    "    myclassifier.partial_fit_to_depth(train_X_3,train_Y_3,dep)\n",
    "    valid_pred = myclassifier.partial_predict_to_depth(valid_X)\n",
    "    val_acc = accuracy_score(valid_Y,valid_pred)\n",
    "    train_pred = myclassifier.partial_predict_to_depth(train_X)\n",
    "    train_acc = accuracy_score(train_Y,train_pred)\n",
    "    test_pred = myclassifier.partial_predict_to_depth(test_X)\n",
    "    test_acc = accuracy_score(test_Y,test_pred)\n",
    "\n",
    "    \n",
    "    \n",
    "    l.append([count(myclassifier.root),train_acc,\"Train\"])\n",
    "    l.append([count(myclassifier.root),val_acc,\"Val\"])\n",
    "    l.append([count(myclassifier.root),test_acc,\"Test\"])\n",
    "    print(\"Depth is \",dep,\" Count is \",count(myclassifier.root),\" val Accuracy is \",val_acc)"
   ]
  },
  {
   "cell_type": "code",
   "execution_count": null,
   "metadata": {},
   "outputs": [],
   "source": []
  },
  {
   "cell_type": "code",
   "execution_count": 165,
   "metadata": {
    "ExecuteTime": {
     "end_time": "2018-04-11T04:33:19.117908Z",
     "start_time": "2018-04-11T04:33:19.113505Z"
    }
   },
   "outputs": [],
   "source": [
    "mdat = pd.DataFrame(data=l,columns=[\"Number of Nodes\",\"Accuracy\",\"Type\"])"
   ]
  },
  {
   "cell_type": "code",
   "execution_count": 166,
   "metadata": {
    "ExecuteTime": {
     "end_time": "2018-04-11T04:33:19.840324Z",
     "start_time": "2018-04-11T04:33:19.140899Z"
    }
   },
   "outputs": [
    {
     "data": {
      "text/plain": [
       "<seaborn.axisgrid.FacetGrid at 0x7f565b32acc0>"
      ]
     },
     "execution_count": 166,
     "metadata": {},
     "output_type": "execute_result"
    },
    {
     "data": {
      "image/png": "[encoded data removed]",
      "text/plain": [
       "<matplotlib.figure.Figure at 0x7f565b32ac18>"
      ]
     },
     "metadata": {},
     "output_type": "display_data"
    }
   ],
   "source": [
    "sns.lmplot(\"Number of Nodes\",\"Accuracy\",data=mdat,hue=\"Type\")"
   ]
  },
  {
   "cell_type": "code",
   "execution_count": null,
   "metadata": {},
   "outputs": [],
   "source": []
  },
  {
   "cell_type": "code",
   "execution_count": null,
   "metadata": {},
   "outputs": [],
   "source": []
  },
  {
   "cell_type": "code",
   "execution_count": null,
   "metadata": {},
   "outputs": [],
   "source": []
  },
  {
   "cell_type": "code",
   "execution_count": 184,
   "metadata": {
    "ExecuteTime": {
     "end_time": "2018-04-11T04:55:48.419528Z",
     "start_time": "2018-04-11T04:55:48.409386Z"
    }
   },
   "outputs": [],
   "source": [
    "from sklearn.tree import DecisionTreeClassifier as skCLF"
   ]
  },
  {
   "cell_type": "code",
   "execution_count": null,
   "metadata": {},
   "outputs": [],
   "source": []
  },
  {
   "cell_type": "code",
   "execution_count": null,
   "metadata": {},
   "outputs": [],
   "source": []
  },
  {
   "cell_type": "code",
   "execution_count": 185,
   "metadata": {
    "ExecuteTime": {
     "end_time": "2018-04-11T04:55:54.542516Z",
     "start_time": "2018-04-11T04:55:54.426201Z"
    }
   },
   "outputs": [
    {
     "name": "stdout",
     "output_type": "stream",
     "text": [
      "Accuracy is  0.8526666666666667\n"
     ]
    }
   ],
   "source": [
    "clf = skCLF(min_samples_leaf=6,min_samples_split=6,max_depth=10)\n",
    "clf.fit(train_X_3,train_Y_3)\n",
    "preds = clf.predict(valid_X_3)\n",
    "print(\"Accuracy is \",accuracy_score(valid_Y_3,preds))z"
   ]
  },
  {
   "cell_type": "code",
   "execution_count": null,
   "metadata": {},
   "outputs": [],
   "source": []
  },
  {
   "cell_type": "code",
   "execution_count": null,
   "metadata": {},
   "outputs": [],
   "source": []
  },
  {
   "cell_type": "code",
   "execution_count": 188,
   "metadata": {
    "ExecuteTime": {
     "end_time": "2018-04-11T04:59:29.232376Z",
     "start_time": "2018-04-11T04:59:29.224242Z"
    }
   },
   "outputs": [],
   "source": [
    "import sklearn.model_selection\n",
    "from sklearn.tree import DecisionTreeClassifier as skCLF\n",
    "from sklearn.ensemble import RandomForestClassifier"
   ]
  },
  {
   "cell_type": "code",
   "execution_count": 210,
   "metadata": {
    "ExecuteTime": {
     "end_time": "2018-04-11T05:14:52.242084Z",
     "start_time": "2018-04-11T05:14:52.226156Z"
    }
   },
   "outputs": [],
   "source": [
    "forest = skCLF()\n",
    "clf = sklearn.model_selection.GridSearchCV(\n",
    "    forest, {\n",
    "        \"min_samples_leaf\": [5, 7, 8,10,13],\n",
    "        \"min_samples_split\": [3, 5, 7,9,11],\n",
    "        \"max_depth\": [5,10, 20]\n",
    "    })"
   ]
  },
  {
   "cell_type": "code",
   "execution_count": 211,
   "metadata": {
    "ExecuteTime": {
     "end_time": "2018-04-11T05:15:06.326257Z",
     "start_time": "2018-04-11T05:14:53.365005Z"
    }
   },
   "outputs": [
    {
     "data": {
      "text/plain": [
       "GridSearchCV(cv=None, error_score='raise',\n",
       "       estimator=DecisionTreeClassifier(class_weight=None, criterion='gini', max_depth=None,\n",
       "            max_features=None, max_leaf_nodes=None,\n",
       "            min_impurity_decrease=0.0, min_impurity_split=None,\n",
       "            min_samples_leaf=1, min_samples_split=2,\n",
       "            min_weight_fraction_leaf=0.0, presort=False, random_state=None,\n",
       "            splitter='best'),\n",
       "       fit_params=None, iid=True, n_jobs=1,\n",
       "       param_grid={'min_samples_leaf': [5, 7, 8, 10, 13], 'min_samples_split': [3, 5, 7, 9, 11], 'max_depth': [5, 10, 20]},\n",
       "       pre_dispatch='2*n_jobs', refit=True, return_train_score='warn',\n",
       "       scoring=None, verbose=0)"
      ]
     },
     "execution_count": 211,
     "metadata": {},
     "output_type": "execute_result"
    }
   ],
   "source": [
    "clf.fit(train_X_3,train_Y_3)"
   ]
  },
  {
   "cell_type": "code",
   "execution_count": 212,
   "metadata": {
    "ExecuteTime": {
     "end_time": "2018-04-11T05:15:06.358490Z",
     "start_time": "2018-04-11T05:15:06.353222Z"
    }
   },
   "outputs": [
    {
     "data": {
      "text/plain": [
       "{'max_depth': 10, 'min_samples_leaf': 10, 'min_samples_split': 7}"
      ]
     },
     "execution_count": 212,
     "metadata": {},
     "output_type": "execute_result"
    }
   ],
   "source": [
    "clf.best_params_"
   ]
  },
  {
   "cell_type": "code",
   "execution_count": 222,
   "metadata": {
    "ExecuteTime": {
     "end_time": "2018-04-11T05:18:57.675680Z",
     "start_time": "2018-04-11T05:18:57.549402Z"
    }
   },
   "outputs": [
    {
     "name": "stdout",
     "output_type": "stream",
     "text": [
      "Accuracy is  0.8472857142857143\n"
     ]
    }
   ],
   "source": [
    "clf = skCLF(min_samples_leaf=11,min_samples_split=7,max_depth=10)\n",
    "clf.fit(train_X_3,train_Y_3)\n",
    "preds = clf.predict(test_X_3)\n",
    "print(\"Accuracy is \",accuracy_score(test_Y_3,preds))"
   ]
  },
  {
   "cell_type": "code",
   "execution_count": 232,
   "metadata": {
    "ExecuteTime": {
     "end_time": "2018-04-11T05:23:44.272436Z",
     "start_time": "2018-04-11T05:23:44.251847Z"
    }
   },
   "outputs": [],
   "source": [
    "forest = RandomForestClassifier()\n",
    "clf = sklearn.model_selection.GridSearchCV(\n",
    "    forest, {\n",
    "        \"n_estimators\": [3,10,30,60,100],\n",
    "        \"max_features\": [7,9,11,14],\n",
    "        \"bootstrap\": [True,False]\n",
    "    },n_jobs=6)"
   ]
  },
  {
   "cell_type": "code",
   "execution_count": null,
   "metadata": {
    "ExecuteTime": {
     "start_time": "2018-04-11T05:23:44.774Z"
    }
   },
   "outputs": [],
   "source": [
    "clf.fit(train_X_3,train_Y_3)"
   ]
  },
  {
   "cell_type": "code",
   "execution_count": null,
   "metadata": {},
   "outputs": [],
   "source": [
    "clf.best_params_"
   ]
  },
  {
   "cell_type": "code",
   "execution_count": null,
   "metadata": {},
   "outputs": [],
   "source": []
  },
  {
   "cell_type": "code",
   "execution_count": null,
   "metadata": {},
   "outputs": [],
   "source": [
    "preds = forest.predict(valid_X_3)\n",
    "print(\"Accuracy is \",accuracy_score(valid_Y_3,preds))"
   ]
  },
  {
   "cell_type": "code",
   "execution_count": null,
   "metadata": {},
   "outputs": [],
   "source": []
  },
  {
   "cell_type": "code",
   "execution_count": 223,
   "metadata": {
    "ExecuteTime": {
     "end_time": "2018-04-11T05:19:12.809526Z",
     "start_time": "2018-04-11T05:19:11.805831Z"
    }
   },
   "outputs": [
    {
     "data": {
      "text/plain": [
       "RandomForestClassifier(bootstrap=True, class_weight=None, criterion='gini',\n",
       "            max_depth=30, max_features='auto', max_leaf_nodes=None,\n",
       "            min_impurity_decrease=0.0, min_impurity_split=None,\n",
       "            min_samples_leaf=4, min_samples_split=5,\n",
       "            min_weight_fraction_leaf=0.0, n_estimators=50, n_jobs=1,\n",
       "            oob_score=False, random_state=None, verbose=0,\n",
       "            warm_start=False)"
      ]
     },
     "execution_count": 223,
     "metadata": {},
     "output_type": "execute_result"
    }
   ],
   "source": [
    "forest = RandomForestClassifier(n_estimators=50,min_samples_leaf=4,min_samples_split=5,max_depth=30)\n",
    "forest.fit(train_X_3,train_Y_3)"
   ]
  },
  {
   "cell_type": "code",
   "execution_count": 224,
   "metadata": {
    "ExecuteTime": {
     "end_time": "2018-04-11T05:19:13.832017Z",
     "start_time": "2018-04-11T05:19:13.788626Z"
    }
   },
   "outputs": [
    {
     "name": "stdout",
     "output_type": "stream",
     "text": [
      "Accuracy is  0.8563333333333333\n"
     ]
    }
   ],
   "source": [
    "preds = forest.predict(valid_X_3)\n",
    "print(\"Accuracy is \",accuracy_score(valid_Y_3,preds))"
   ]
  },
  {
   "cell_type": "code",
   "execution_count": null,
   "metadata": {},
   "outputs": [],
   "source": [
    "\n",
    "\n",
    "\n",
    "\n",
    "\n",
    "\n",
    "\n"
   ]
  },
  {
   "cell_type": "code",
   "execution_count": null,
   "metadata": {},
   "outputs": [],
   "source": []
  },
  {
   "cell_type": "code",
   "execution_count": null,
   "metadata": {},
   "outputs": [],
   "source": []
  },
  {
   "cell_type": "code",
   "execution_count": null,
   "metadata": {},
   "outputs": [],
   "source": []
  },
  {
   "cell_type": "code",
   "execution_count": null,
   "metadata": {},
   "outputs": [],
   "source": []
  },
  {
   "cell_type": "code",
   "execution_count": null,
   "metadata": {},
   "outputs": [],
   "source": []
  },
  {
   "cell_type": "code",
   "execution_count": null,
   "metadata": {},
   "outputs": [],
   "source": []
  },
  {
   "cell_type": "code",
   "execution_count": null,
   "metadata": {},
   "outputs": [],
   "source": []
  }
 ],
 "metadata": {
  "kernelspec": {
   "display_name": "Python 3",
   "language": "python",
   "name": "python3"
  },
  "language_info": {
   "codemirror_mode": {
    "name": "ipython",
    "version": 3
   },
   "file_extension": ".py",
   "mimetype": "text/x-python",
   "name": "python",
   "nbconvert_exporter": "python",
   "pygments_lexer": "ipython3",
   "version": "3.6.5"
  },
  "varInspector": {
   "cols": {
    "lenName": 16,
    "lenType": 16,
    "lenVar": 40
   },
   "kernels_config": {
    "python": {
     "delete_cmd_postfix": "",
     "delete_cmd_prefix": "del ",
     "library": "var_list.py",
     "varRefreshCmd": "print(var_dic_list())"
    },
    "r": {
     "delete_cmd_postfix": ") ",
     "delete_cmd_prefix": "rm(",
     "library": "var_list.r",
     "varRefreshCmd": "cat(var_dic_list()) "
    }
   },
   "types_to_exclude": [
    "module",
    "function",
    "builtin_function_or_method",
    "instance",
    "_Feature"
   ],
   "window_display": false
  }
 },
 "nbformat": 4,
 "nbformat_minor": 2
}
