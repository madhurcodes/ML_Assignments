{
 "cells": [
  {
   "cell_type": "code",
   "execution_count": 27,
   "metadata": {
    "ExecuteTime": {
     "end_time": "2018-04-03T10:32:28.359067Z",
     "start_time": "2018-04-03T10:32:28.340967Z"
    }
   },
   "outputs": [],
   "source": [
    "import pickle\n",
    "import time\n",
    "import csv\n",
    "import numpy as np\n",
    "import matplotlib.pyplot as plt\n",
    "import pandas as pd\n",
    "import sys\n",
    "import math\n",
    "def sigmoid(x):\n",
    "  return 1 / (1 + math.exp(-x))"
   ]
  },
  {
   "cell_type": "code",
   "execution_count": 10,
   "metadata": {
    "ExecuteTime": {
     "end_time": "2018-04-03T10:30:16.247150Z",
     "start_time": "2018-04-03T10:30:16.210680Z"
    }
   },
   "outputs": [],
   "source": [
    "class NeuralNetwork:\n",
    "    \"\"\"Implements a Fully connected neural network with sigmoid activation\n",
    "        and boolean output.\"\"\"\n",
    "\n",
    "    def __init__(self, num_inputs, hidden_node_list, batch_size):\n",
    "        self.bs = batch_size\n",
    "        self.num_inputs = num_inputs\n",
    "        # (weights,biases,num_outputs)\n",
    "        self.hidden_layers = [(np.random.uniform(\n",
    "            low=-0.1, high=0.1, size=(num_inputs, hidden_node_list[0])),\n",
    "                          np.zeros(hidden_node_list[0]), hidden_node_list[0])]\n",
    "        last_outputs = hidden_node_list[0]\n",
    "        for hidden_layer_dim in hidden_node_list[1:]:\n",
    "            self.hidden_layers.append((np.random.uniform(\n",
    "                low=-0.1, high=0.1, size=(last_outputs, hidden_layer_dim)),\n",
    "                                  np.zeros(hidden_layer_dim),\n",
    "                                  hidden_layer_dim))\n",
    "            last_outputs = hidden_layer_dim\n",
    "        self.hidden_layers.append((np.random.uniform(\n",
    "                low=-0.1, high=0.1, size=(last_outputs, 2)),\n",
    "                                  np.zeros(2),\n",
    "                                  2))\n",
    "\n",
    "    def fit(self, X, Y):\n",
    "        \n",
    "\n",
    "    def predict(self, X):\n",
    "        pass"
   ]
  },
  {
   "cell_type": "code",
   "execution_count": 11,
   "metadata": {
    "ExecuteTime": {
     "end_time": "2018-04-03T10:30:16.559207Z",
     "start_time": "2018-04-03T10:30:16.556110Z"
    }
   },
   "outputs": [],
   "source": [
    "n = NeuralNetwork(5,[6,8,9,3],4)"
   ]
  },
  {
   "cell_type": "code",
   "execution_count": null,
   "metadata": {},
   "outputs": [],
   "source": []
  },
  {
   "cell_type": "code",
   "execution_count": null,
   "metadata": {},
   "outputs": [],
   "source": []
  },
  {
   "cell_type": "code",
   "execution_count": null,
   "metadata": {},
   "outputs": [],
   "source": []
  },
  {
   "cell_type": "code",
   "execution_count": null,
   "metadata": {},
   "outputs": [],
   "source": []
  },
  {
   "cell_type": "code",
   "execution_count": null,
   "metadata": {},
   "outputs": [],
   "source": []
  },
  {
   "cell_type": "code",
   "execution_count": null,
   "metadata": {},
   "outputs": [],
   "source": []
  },
  {
   "cell_type": "code",
   "execution_count": null,
   "metadata": {},
   "outputs": [],
   "source": []
  },
  {
   "cell_type": "code",
   "execution_count": null,
   "metadata": {},
   "outputs": [],
   "source": []
  },
  {
   "cell_type": "code",
   "execution_count": null,
   "metadata": {},
   "outputs": [],
   "source": []
  },
  {
   "cell_type": "code",
   "execution_count": null,
   "metadata": {},
   "outputs": [],
   "source": []
  },
  {
   "cell_type": "code",
   "execution_count": null,
   "metadata": {},
   "outputs": [],
   "source": []
  },
  {
   "cell_type": "code",
   "execution_count": null,
   "metadata": {},
   "outputs": [],
   "source": []
  }
 ],
 "metadata": {
  "kernelspec": {
   "display_name": "Python 3",
   "language": "python",
   "name": "python3"
  },
  "language_info": {
   "codemirror_mode": {
    "name": "ipython",
    "version": 3
   },
   "file_extension": ".py",
   "mimetype": "text/x-python",
   "name": "python",
   "nbconvert_exporter": "python",
   "pygments_lexer": "ipython3",
   "version": "3.6.5rc1"
  },
  "varInspector": {
   "cols": {
    "lenName": 16,
    "lenType": 16,
    "lenVar": 40
   },
   "kernels_config": {
    "python": {
     "delete_cmd_postfix": "",
     "delete_cmd_prefix": "del ",
     "library": "var_list.py",
     "varRefreshCmd": "print(var_dic_list())"
    },
    "r": {
     "delete_cmd_postfix": ") ",
     "delete_cmd_prefix": "rm(",
     "library": "var_list.r",
     "varRefreshCmd": "cat(var_dic_list()) "
    }
   },
   "types_to_exclude": [
    "module",
    "function",
    "builtin_function_or_method",
    "instance",
    "_Feature"
   ],
   "window_display": false
  }
 },
 "nbformat": 4,
 "nbformat_minor": 2
}
