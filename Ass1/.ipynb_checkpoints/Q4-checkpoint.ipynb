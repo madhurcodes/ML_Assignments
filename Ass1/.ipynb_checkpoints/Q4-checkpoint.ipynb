{
 "cells": [
  {
   "cell_type": "code",
   "execution_count": 45,
   "metadata": {},
   "outputs": [],
   "source": [
    "import matplotlib.pyplot as plt\n",
    "import numpy as np\n",
    "%matplotlib inline"
   ]
  },
  {
   "cell_type": "code",
   "execution_count": 46,
   "metadata": {},
   "outputs": [],
   "source": [
    "x_data = np.genfromtxt(\"Assignment_1_datasets/q4x.dat\",delimiter='  ')\n",
    "x_data = (x_data - np.mean(x_data,axis=0) ) / np.std(x_data,axis=0)\n",
    "#x_data = np.hstack((x_data,np.ones((100,1))))\n",
    "y_data = np.asarray([0]*50 + [1]*50) # 0 == Alaska, 1 = Canada"
   ]
  },
  {
   "cell_type": "code",
   "execution_count": 47,
   "metadata": {},
   "outputs": [
    {
     "data": {
      "text/plain": [
       "array([0, 0, 0, 0, 0, 0, 0, 0, 0, 0, 0, 0, 0, 0, 0, 0, 0, 0, 0, 0, 0, 0, 0,\n",
       "       0, 0, 0, 0, 0, 0, 0, 0, 0, 0, 0, 0, 0, 0, 0, 0, 0, 0, 0, 0, 0, 0, 0,\n",
       "       0, 0, 0, 0, 1, 1, 1, 1, 1, 1, 1, 1, 1, 1, 1, 1, 1, 1, 1, 1, 1, 1, 1,\n",
       "       1, 1, 1, 1, 1, 1, 1, 1, 1, 1, 1, 1, 1, 1, 1, 1, 1, 1, 1, 1, 1, 1, 1,\n",
       "       1, 1, 1, 1, 1, 1, 1, 1])"
      ]
     },
     "execution_count": 47,
     "metadata": {},
     "output_type": "execute_result"
    }
   ],
   "source": [
    "y_data"
   ]
  },
  {
   "cell_type": "code",
   "execution_count": 48,
   "metadata": {},
   "outputs": [],
   "source": [
    "phi = np.sum(y_data==1) / 100 \n",
    "mu_0 = np.sum(x_data[y_data==0],axis=0)/np.sum(y_data==0)\n",
    "mu_1 = np.sum(x_data[y_data==1],axis=0)/np.sum(y_data==1)\n",
    "\n",
    "\n",
    "cov = (np.matmul((x_data[y_data==0] - mu_0).T,x_data[y_data==0] - mu_0)+ \n",
    "        np.matmul((x_data[y_data==1] - mu_1).T,x_data[y_data==1] - mu_1)\n",
    "      )/ np.sum((y_data==0) | (y_data==1))"
   ]
  },
  {
   "cell_type": "code",
   "execution_count": 49,
   "metadata": {},
   "outputs": [
    {
     "data": {
      "text/plain": [
       "0.5"
      ]
     },
     "execution_count": 49,
     "metadata": {},
     "output_type": "execute_result"
    }
   ],
   "source": [
    "phi"
   ]
  },
  {
   "cell_type": "code",
   "execution_count": 50,
   "metadata": {
    "scrolled": true
   },
   "outputs": [
    {
     "data": {
      "text/plain": [
       "array([-0.75529433,  0.68509431])"
      ]
     },
     "execution_count": 50,
     "metadata": {},
     "output_type": "execute_result"
    }
   ],
   "source": [
    "mu_0"
   ]
  },
  {
   "cell_type": "code",
   "execution_count": 51,
   "metadata": {},
   "outputs": [
    {
     "data": {
      "text/plain": [
       "array([ 0.75529433, -0.68509431])"
      ]
     },
     "execution_count": 51,
     "metadata": {},
     "output_type": "execute_result"
    }
   ],
   "source": [
    "mu_1"
   ]
  },
  {
   "cell_type": "code",
   "execution_count": 52,
   "metadata": {},
   "outputs": [
    {
     "data": {
      "text/plain": [
       "array([[ 0.42953048, -0.02247228],\n",
       "       [-0.02247228,  0.53064579]])"
      ]
     },
     "execution_count": 52,
     "metadata": {},
     "output_type": "execute_result"
    }
   ],
   "source": [
    "cov"
   ]
  },
  {
   "cell_type": "markdown",
   "metadata": {},
   "source": [
    "### Expanding decision boundary expression to an explicit form gives a complicated expression in terms of covariances, means and  determinants of covariances"
   ]
  },
  {
   "cell_type": "markdown",
   "metadata": {},
   "source": [
    "### For same covariance matrix expression is linear, let it be $k_1*x_1 + k_2*x_2 + k_3 = 0$"
   ]
  },
  {
   "cell_type": "code",
   "execution_count": 53,
   "metadata": {},
   "outputs": [],
   "source": [
    "det = np.linalg.det(cov)\n",
    "k_1 = (1/np.abs(det))*(-2*mu_1[0]*cov[1,1] + 2*mu_1[1]*cov[0,1] + 2*mu_0[0]*cov[1,1] -2*mu_0[1]*cov[0,1])\n",
    "k_2 = (1/np.abs(det))*(-2*mu_1[1]*cov[0,0] + 2*mu_1[0]*cov[0,1] + 2*mu_0[1]*cov[0,0] -2*mu_0[0]*cov[0,1])\n",
    "k_3 = (1/np.abs(det))*(mu_1[0]*mu_1[0]*cov[1,1] - 2*mu_1[0]*mu_1[1]*cov[0,1] + mu_1[1]*mu_1[1]*cov[0,0]\n",
    "             - mu_0[0]*mu_0[0]*cov[1,1] + 2*mu_0[0]*mu_0[1]*cov[0,1] - mu_1[1]*mu_1[1]*cov[0,0])"
   ]
  },
  {
   "cell_type": "code",
   "execution_count": 54,
   "metadata": {},
   "outputs": [
    {
     "data": {
      "text/plain": [
       "[<matplotlib.lines.Line2D at 0x7f4239c2af28>]"
      ]
     },
     "execution_count": 54,
     "metadata": {},
     "output_type": "execute_result"
    },
    {
     "data": {
      "image/png": "[encoded data removed]",
      "text/plain": [
       "<matplotlib.figure.Figure at 0x7f423a768b38>"
      ]
     },
     "metadata": {},
     "output_type": "display_data"
    }
   ],
   "source": [
    "fig = plt.figure()\n",
    "ax = fig.add_subplot(111)\n",
    "markers = [\"s\",\"o\"]\n",
    "colors = [\"b\",\"r\"]\n",
    "for i, c in enumerate(np.unique(y_data)):\n",
    "    ax.scatter(x_data[:,0][y_data==c],x_data[:,1][y_data==c],c=colors[i], marker=markers[i])\n",
    "ax.plot(x_data[:,0],(-k_3-k_1*x_data[:,0] )/ k_2)"
   ]
  },
  {
   "cell_type": "code",
   "execution_count": 55,
   "metadata": {},
   "outputs": [],
   "source": [
    "phi = np.sum(y_data==1) / 100 \n",
    "mu_0 = np.sum(x_data[y_data==0],axis=0)/np.sum(y_data==0)\n",
    "mu_1 = np.sum(x_data[y_data==1],axis=0)/np.sum(y_data==1)\n",
    "cov_0 = np.matmul((x_data[y_data==0] - mu_0).T,x_data[y_data==0] - mu_0)/np.sum(y_data==0)\n",
    "cov_1 = np.matmul((x_data[y_data==1] - mu_1).T,x_data[y_data==1] - mu_1)/np.sum(y_data==1)"
   ]
  },
  {
   "cell_type": "code",
   "execution_count": 56,
   "metadata": {},
   "outputs": [
    {
     "data": {
      "text/plain": [
       "array([[ 0.38158978, -0.15486516],\n",
       "       [-0.15486516,  0.64773717]])"
      ]
     },
     "execution_count": 56,
     "metadata": {},
     "output_type": "execute_result"
    }
   ],
   "source": [
    "cov_0"
   ]
  },
  {
   "cell_type": "code",
   "execution_count": 57,
   "metadata": {},
   "outputs": [
    {
     "data": {
      "text/plain": [
       "0.5"
      ]
     },
     "execution_count": 57,
     "metadata": {},
     "output_type": "execute_result"
    }
   ],
   "source": [
    "phi"
   ]
  },
  {
   "cell_type": "markdown",
   "metadata": {},
   "source": [
    "### Expression is quadratic, let it be $l_1*x_1^2 + l_2*x_2^2 + l_3*x_1*x_2 + l_4*x_1 + l_5*x_2 + l_6 = 0$"
   ]
  },
  {
   "cell_type": "code",
   "execution_count": 58,
   "metadata": {},
   "outputs": [],
   "source": [
    "det_0 = np.linalg.det(cov_0)\n",
    "det_1 = np.linalg.det(cov_1)\n",
    "l_1 = (1/np.abs(det_1))*cov_1[1,1] - (1/np.abs(det_0))*cov_0[1,1]\n",
    "l_2 = (1/np.abs(det_1))*cov_1[0,0] - (1/np.abs(det_0))*cov_0[0,0]\n",
    "l_3 = -2*(1/np.abs(det_1))*cov_1[0,1] + 2*(1/np.abs(det_0))*cov_0[0,1]\n",
    "l_4 = (-2*(1/np.abs(det_1))*mu_1[0]*cov_1[1,1] + 2*(1/np.abs(det_1))*mu_1[1]*cov_1[0,1] +\n",
    "       2*(1/np.abs(det_0))*mu_0[0]*cov_0[1,1] -2*(1/np.abs(det_0))*mu_0[1]*cov_0[0,1])\n",
    "l_5 = (-2*(1/np.abs(det_1))*mu_1[1]*cov_1[0,0] + 2*(1/np.abs(det_1))*mu_1[0]*cov_1[0,1] +\n",
    "       2*(1/np.abs(det_0))*mu_0[1]*cov_0[0,0] -2*(1/np.abs(det_0))*mu_0[0]*cov_0[0,1])\n",
    "l_6 = ((1/np.abs(det_1))*mu_1[0]*mu_1[0]*cov_1[1,1] - (1/np.abs(det_1))*2*mu_1[0]*mu_1[1]*cov_1[0,1] +\n",
    "       (1/np.abs(det_1))*mu_1[1]*mu_1[1]*cov_1[0,0] - (1/np.abs(det_0))*mu_0[0]*mu_0[0]*cov_0[1,1] +\n",
    "       (1/np.abs(det_0))*2*mu_0[0]*mu_0[1]*cov_0[0,1] - (1/np.abs(det_0))*mu_1[1]*mu_1[1]*cov_0[0,0]+\n",
    "              np.log(np.abs(det_1/det_0)))"
   ]
  },
  {
   "cell_type": "code",
   "execution_count": 69,
   "metadata": {},
   "outputs": [
    {
     "data": {
      "text/plain": [
       "[<matplotlib.lines.Line2D at 0x7f4239602ef0>]"
      ]
     },
     "execution_count": 69,
     "metadata": {},
     "output_type": "execute_result"
    },
    {
     "data": {
      "image/png": "[encoded data removed]",
      "text/plain": [
       "<matplotlib.figure.Figure at 0x7f42396b8b00>"
      ]
     },
     "metadata": {},
     "output_type": "display_data"
    }
   ],
   "source": [
    "fig = plt.figure()\n",
    "ax = fig.add_subplot(111)\n",
    "markers = [\"s\",\"o\"]\n",
    "colors = [\"b\",\"r\"]\n",
    "for i, c in enumerate(np.unique(y_data)):\n",
    "    ax.scatter(x_data[:,0][y_data==c],x_data[:,1][y_data==c],c=colors[i], marker=markers[i])\n",
    "ax.plot(x_data[:,0],(-k_3-k_1*x_data[:,0] )/ k_2)\n",
    "xs = x_data[:,0]\n",
    "# Quadratic solution\n",
    "ys = (-(l_3*x_data[:,0]+l_5) +\n",
    "            (np.sqrt(np.square(l_3*x_data[:,0]+l_5) -\n",
    "                     4*l_2*(l_1*x_data[:,0]*x_data[:,0] +l_4*x_data[:,0]+l_6)) ))/(2*l_2)\n",
    "xs, ys = zip(*sorted(zip(xs,  ys  )))\n",
    "ax.plot(xs,ys,c=\"g\")\n",
    "# ax.scatter(x_data[:,0],(-(l_3*x_data[:,0]+l_5) -\n",
    "#             (np.sqrt(np.square(l_3*x_data[:,0]+l_5) -\n",
    "#                      4*l_2*(l_1*x_data[:,0]*x_data[:,0] +l_4*x_data[:,0]+l_6)) ))/(2*l_2) ,c=\"g\")"
   ]
  },
  {
   "cell_type": "markdown",
   "metadata": {},
   "source": [
    "It is clear from the graph that the quadratic boundary seems to be a better fit as it takes care of a few points which protrude out of the linear boundary. "
   ]
  },
  {
   "cell_type": "code",
   "execution_count": null,
   "metadata": {},
   "outputs": [],
   "source": []
  },
  {
   "cell_type": "code",
   "execution_count": null,
   "metadata": {},
   "outputs": [],
   "source": []
  },
  {
   "cell_type": "code",
   "execution_count": null,
   "metadata": {},
   "outputs": [],
   "source": []
  }
 ],
 "metadata": {
  "kernelspec": {
   "display_name": "Python 3",
   "language": "python",
   "name": "python3"
  },
  "language_info": {
   "codemirror_mode": {
    "name": "ipython",
    "version": 3
   },
   "file_extension": ".py",
   "mimetype": "text/x-python",
   "name": "python",
   "nbconvert_exporter": "python",
   "pygments_lexer": "ipython3",
   "version": "3.6.3"
  },
  "varInspector": {
   "cols": {
    "lenName": 16,
    "lenType": 16,
    "lenVar": 40
   },
   "kernels_config": {
    "python": {
     "delete_cmd_postfix": "",
     "delete_cmd_prefix": "del ",
     "library": "var_list.py",
     "varRefreshCmd": "print(var_dic_list())"
    },
    "r": {
     "delete_cmd_postfix": ") ",
     "delete_cmd_prefix": "rm(",
     "library": "var_list.r",
     "varRefreshCmd": "cat(var_dic_list()) "
    }
   },
   "types_to_exclude": [
    "module",
    "function",
    "builtin_function_or_method",
    "instance",
    "_Feature"
   ],
   "window_display": false
  }
 },
 "nbformat": 4,
 "nbformat_minor": 2
}
