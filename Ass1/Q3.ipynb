{
 "cells": [
  {
   "cell_type": "markdown",
   "metadata": {},
   "source": [
    "## Logistic Regression using Newton's Method\n",
    "In this part we implement classification using logistic regression using Newton's method for optimization."
   ]
  },
  {
   "cell_type": "code",
   "execution_count": 1,
   "metadata": {},
   "outputs": [],
   "source": [
    "import matplotlib.pyplot as plt\n",
    "import numpy as np\n",
    "%matplotlib inline"
   ]
  },
  {
   "cell_type": "code",
   "execution_count": 3,
   "metadata": {},
   "outputs": [],
   "source": [
    "x_data = np.genfromtxt(\"Assignment_1_datasets/logisticX.csv\",delimiter=',')\n",
    "x_data = (x_data - np.mean(x_data,axis=0) ) / np.std(x_data,axis=0)\n",
    "x_data = np.hstack((x_data,np.ones((100,1))))\n",
    "y_data = np.genfromtxt(\"Assignment_1_datasets/logisticY.csv\")"
   ]
  },
  {
   "cell_type": "code",
   "execution_count": 4,
   "metadata": {},
   "outputs": [],
   "source": [
    "def sigmoid(x):\n",
    "    return 1/(1+np.exp(-x))"
   ]
  },
  {
   "cell_type": "code",
   "execution_count": 5,
   "metadata": {},
   "outputs": [],
   "source": [
    "theta  = np.asarray([0,0,0]) # theta_1,theta_0\n",
    "lr = 1\n",
    "iteration = 1"
   ]
  },
  {
   "cell_type": "markdown",
   "metadata": {},
   "source": [
    "We calculate the Grad and Hessian matrices and use the following update rule to update our parameters (initialized at zero).\n",
    "$$ \\theta_{t+1} = \\theta_{t} - H(f(\\theta_t))^{-1} \\nabla f(\\theta_t) $$ "
   ]
  },
  {
   "cell_type": "markdown",
   "metadata": {},
   "source": [
    "Following is the output of our optimization. The first parameter corresponds to the first feature, second to the second feature and last one is the bias. It is clear that our algorithm converges sufficiently in only one iteration and after this all the parameters are just scaled by some number. After five iterations overflow is encountered and the algorithm terminates."
   ]
  },
  {
   "cell_type": "code",
   "execution_count": 6,
   "metadata": {},
   "outputs": [
    {
     "name": "stdout",
     "output_type": "stream",
     "text": [
      "Iteration =  1\n",
      "Theta array =  [ -8.97341408e-01   9.20112283e-01   3.85905135e-16]\n",
      "Iteration =  2\n",
      "Theta array =  [-4.88262336  5.02247361 -0.28086918]\n",
      "Iteration =  3\n",
      "Theta array =  [-326.74629425  321.51992179  -63.86126337]\n",
      "Iteration =  4\n",
      "Theta array =  [ -5.65776800e+10   5.55708777e+10  -1.15565907e+10]\n",
      "Overflow in iteration 5\n"
     ]
    },
    {
     "name": "stderr",
     "output_type": "stream",
     "text": [
      "/home/madhur/.local/lib/python3.6/site-packages/ipykernel_launcher.py:2: RuntimeWarning: overflow encountered in exp\n",
      "  \n"
     ]
    }
   ],
   "source": [
    "while True:\n",
    "    hx = sigmoid(np.matmul(x_data,theta))\n",
    "    grad = np.matmul(x_data.T,y_data - hx)\n",
    "    hessian = np.asarray([[np.sum(x_data[:,j]*x_data[:,k]*(1-hx)*hx) for j in range(3)] for k in range(3)])\n",
    "    try:\n",
    "        \n",
    "        theta = theta - lr*np.matmul(np.linalg.inv(hessian),grad)\n",
    "        print (\"Iteration = \", iteration)\n",
    "        print (\"Theta array = \" ,theta)\n",
    "    except:\n",
    "        print(\"Overflow in iteration\",iteration)\n",
    "        break\n",
    "    iteration+=1\n"
   ]
  },
  {
   "cell_type": "markdown",
   "metadata": {},
   "source": [
    "Thus a reasonable equation of the boundary is $ -8.97341408e-01 * x_0 + 9.20112283e-01* x_1 + 3.85905135e-16"
   ]
  },
  {
   "cell_type": "code",
   "execution_count": 8,
   "metadata": {},
   "outputs": [],
   "source": [
    "theta = [ -8.97341408e-01  , 9.20112283e-01   ,3.85905135e-16]"
   ]
  },
  {
   "cell_type": "markdown",
   "metadata": {},
   "source": [
    "Below is the plot of our decision boundary and the data points, it can be seen that our boundary separates the two classes reasonably well."
   ]
  },
  {
   "cell_type": "code",
   "execution_count": 9,
   "metadata": {},
   "outputs": [
    {
     "data": {
      "text/plain": [
       "[<matplotlib.lines.Line2D at 0x7f356c952b00>]"
      ]
     },
     "execution_count": 9,
     "metadata": {},
     "output_type": "execute_result"
    },
    {
     "data": {
      "image/png": "[encoded data removed]",
      "text/plain": [
       "<matplotlib.figure.Figure at 0x7f356ca03cc0>"
      ]
     },
     "metadata": {},
     "output_type": "display_data"
    }
   ],
   "source": [
    "fig = plt.figure()\n",
    "ax = fig.add_subplot(111)\n",
    "markers = [\"s\",\"o\"]\n",
    "colors = [\"b\",\"r\"]\n",
    "for i, c in enumerate(np.unique(y_data)):\n",
    "    ax.scatter(x_data[:,0][y_data==c],x_data[:,1][y_data==c],c=colors[i], marker=markers[i])\n",
    "ax.plot(x_data[:,0],(-theta[2]-theta[0]*x_data[:,0] )/ theta[1])"
   ]
  },
  {
   "cell_type": "code",
   "execution_count": null,
   "metadata": {},
   "outputs": [],
   "source": []
  },
  {
   "cell_type": "code",
   "execution_count": null,
   "metadata": {},
   "outputs": [],
   "source": []
  },
  {
   "cell_type": "code",
   "execution_count": null,
   "metadata": {},
   "outputs": [],
   "source": []
  },
  {
   "cell_type": "code",
   "execution_count": null,
   "metadata": {},
   "outputs": [],
   "source": []
  },
  {
   "cell_type": "code",
   "execution_count": null,
   "metadata": {},
   "outputs": [],
   "source": []
  },
  {
   "cell_type": "code",
   "execution_count": null,
   "metadata": {},
   "outputs": [],
   "source": []
  }
 ],
 "metadata": {
  "kernelspec": {
   "display_name": "Python 3",
   "language": "python",
   "name": "python3"
  },
  "language_info": {
   "codemirror_mode": {
    "name": "ipython",
    "version": 3
   },
   "file_extension": ".py",
   "mimetype": "text/x-python",
   "name": "python",
   "nbconvert_exporter": "python",
   "pygments_lexer": "ipython3",
   "version": "3.6.3"
  },
  "varInspector": {
   "cols": {
    "lenName": 16,
    "lenType": 16,
    "lenVar": 40
   },
   "kernels_config": {
    "python": {
     "delete_cmd_postfix": "",
     "delete_cmd_prefix": "del ",
     "library": "var_list.py",
     "varRefreshCmd": "print(var_dic_list())"
    },
    "r": {
     "delete_cmd_postfix": ") ",
     "delete_cmd_prefix": "rm(",
     "library": "var_list.r",
     "varRefreshCmd": "cat(var_dic_list()) "
    }
   },
   "types_to_exclude": [
    "module",
    "function",
    "builtin_function_or_method",
    "instance",
    "_Feature"
   ],
   "window_display": false
  }
 },
 "nbformat": 4,
 "nbformat_minor": 2
}
